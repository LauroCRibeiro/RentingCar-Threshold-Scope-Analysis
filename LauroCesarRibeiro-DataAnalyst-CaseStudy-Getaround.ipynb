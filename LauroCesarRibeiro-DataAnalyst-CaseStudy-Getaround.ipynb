{
 "cells": [
  {
   "cell_type": "markdown",
   "metadata": {},
   "source": [
    "# Data Analyst - Getaround Case Study\n",
    "\n",
    "## Author: `Lauro Cesar Ribeiro`\n",
    "\n",
    "### Introduction\n",
    "\n",
    "When using **Getaround**, drivers book cars for a specific time period, from `an hour to a few days\n",
    "long`. They are supposed to bring back the car on time, but it happens from time to time that\n",
    "**drivers are late for the checkout**.\n",
    "\n",
    "Late returns at checkout can generate `high friction for the next driver` if the car was supposed\n",
    "to be rented again on the same day : Customer service often reports users unsatisfied\n",
    "because they `had to wait for the car to come back from the previous rental` or users that even\n",
    "had to `cancel their rental because the car wasn’t returned on time`.\n",
    "\n",
    "In order to mitigate those issues the task is to **implement a minimum delay between two\n",
    "rentals**. A car `won’t be displayed in the search results`if the requested `checkin or checkout times are too close` from an already booked rental.\n",
    "\n",
    "The **Product Manager** still needs to decide:\n",
    "-  the **threshold**: how long should the `minimum delay` be?\n",
    "- the **scope**: should we enable the feature `for all cars`?, only `Connect cars`?\n",
    "\n",
    "\n",
    "# Table of Contents\n",
    "1. [Importing dependencies](#p1)\n",
    "2. [Import Dataset](#p2)\n",
    "3. [Data Manipulation](#p3)\n",
    "4. [Exploratory Data Analysis](#p4)\n",
    "5. [Hypothesis Testing](#p5)\n",
    "   * [How many rentals would be affected by the feature depending on the threshold and scope chosen?](#p5-1)\n",
    "   * [What is relation between delayed check-outs and the next rental remaining time?](#p5-2)\n",
    "   * [How many problematic cases will it solve depending on the threshold and the scope?](#p5-3)\n",
    "6. [Conclusion](#p6)"
   ]
  },
  {
   "cell_type": "markdown",
   "metadata": {},
   "source": [
    "# <a name=\"p1\">Importing Dependencies</a>"
   ]
  },
  {
   "cell_type": "code",
   "execution_count": 1,
   "metadata": {},
   "outputs": [],
   "source": [
    "import pandas as pd\n",
    "import numpy as np\n",
    "\n",
    "import seaborn as sns\n",
    "sns.set_palette(sns.color_palette())\n",
    "\n",
    "import matplotlib.pyplot as plt\n",
    "plt.style.use('ggplot')\n",
    "%matplotlib inline\n",
    "\n",
    "import warnings\n",
    "warnings.simplefilter(\"ignore\")"
   ]
  },
  {
   "cell_type": "markdown",
   "metadata": {},
   "source": [
    "# <a name=\"p2\">Import Dataset</a>\n",
    "\n",
    "**rental_id**:\tUnique identifier of the rental\n",
    "\n",
    "**car_id**\tUnique identifier of the car\n",
    "\n",
    "**checkin_type**\t\"Flow used for both checkin and checkout. (ie. access and return the car)\n",
    "- mobile = rental agreement signed on the owner's smartphone\n",
    "- connect = car equiped with the Connect technology , opened by the driver with his smartphone.\n",
    "\n",
    "*Note: paper contracts were excluded from the data as we have no data on their delay at checkout and it's negligible use case\"\n",
    "state\tcanceled means that the rental did not happen (was canceled by the driver or the owner).*\n",
    "\n",
    "**delay_at_checkout_in_minutes**\tDifference in minutes between the rental end time requested by the driver when booking the car and the actual time the driver completed the checkout. Negative values mean that the driver returned the car in advance.\n",
    "previous_ended_rental_id\tid of the previous ended rental of the car (NULL when no previous rental or delay with previous rental higher than 12 hours)\n",
    "\n",
    "**time_delta_with_previous_rental_in_minutes**\tDifference in minutes between this rental planned start time and the previous rental planned end time (when lower than 12 hours, NULL if higher)"
   ]
  },
  {
   "cell_type": "code",
   "execution_count": 2,
   "metadata": {},
   "outputs": [
    {
     "data": {
      "text/html": [
       "<div>\n",
       "<style scoped>\n",
       "    .dataframe tbody tr th:only-of-type {\n",
       "        vertical-align: middle;\n",
       "    }\n",
       "\n",
       "    .dataframe tbody tr th {\n",
       "        vertical-align: top;\n",
       "    }\n",
       "\n",
       "    .dataframe thead th {\n",
       "        text-align: right;\n",
       "    }\n",
       "</style>\n",
       "<table border=\"1\" class=\"dataframe\">\n",
       "  <thead>\n",
       "    <tr style=\"text-align: right;\">\n",
       "      <th></th>\n",
       "      <th>rental_id</th>\n",
       "      <th>car_id</th>\n",
       "      <th>checkin_type</th>\n",
       "      <th>state</th>\n",
       "      <th>delay_at_checkout_in_minutes</th>\n",
       "      <th>previous_ended_rental_id</th>\n",
       "      <th>time_delta_with_previous_rental_in_minutes</th>\n",
       "      <th>Unnamed: 7</th>\n",
       "      <th>Unnamed: 8</th>\n",
       "    </tr>\n",
       "  </thead>\n",
       "  <tbody>\n",
       "    <tr>\n",
       "      <th>0</th>\n",
       "      <td>505000</td>\n",
       "      <td>363965</td>\n",
       "      <td>mobile</td>\n",
       "      <td>canceled</td>\n",
       "      <td>NaN</td>\n",
       "      <td>NaN</td>\n",
       "      <td>NaN</td>\n",
       "      <td>NaN</td>\n",
       "      <td>NaN</td>\n",
       "    </tr>\n",
       "    <tr>\n",
       "      <th>1</th>\n",
       "      <td>507750</td>\n",
       "      <td>269550</td>\n",
       "      <td>mobile</td>\n",
       "      <td>ended</td>\n",
       "      <td>-81.0</td>\n",
       "      <td>NaN</td>\n",
       "      <td>NaN</td>\n",
       "      <td>NaN</td>\n",
       "      <td>NaN</td>\n",
       "    </tr>\n",
       "    <tr>\n",
       "      <th>2</th>\n",
       "      <td>508131</td>\n",
       "      <td>359049</td>\n",
       "      <td>connect</td>\n",
       "      <td>ended</td>\n",
       "      <td>70.0</td>\n",
       "      <td>NaN</td>\n",
       "      <td>NaN</td>\n",
       "      <td>NaN</td>\n",
       "      <td>NaN</td>\n",
       "    </tr>\n",
       "    <tr>\n",
       "      <th>3</th>\n",
       "      <td>508865</td>\n",
       "      <td>299063</td>\n",
       "      <td>connect</td>\n",
       "      <td>canceled</td>\n",
       "      <td>NaN</td>\n",
       "      <td>NaN</td>\n",
       "      <td>NaN</td>\n",
       "      <td>NaN</td>\n",
       "      <td>NaN</td>\n",
       "    </tr>\n",
       "    <tr>\n",
       "      <th>4</th>\n",
       "      <td>511440</td>\n",
       "      <td>313932</td>\n",
       "      <td>mobile</td>\n",
       "      <td>ended</td>\n",
       "      <td>NaN</td>\n",
       "      <td>NaN</td>\n",
       "      <td>NaN</td>\n",
       "      <td>NaN</td>\n",
       "      <td>NaN</td>\n",
       "    </tr>\n",
       "  </tbody>\n",
       "</table>\n",
       "</div>"
      ],
      "text/plain": [
       "   rental_id  car_id checkin_type     state  delay_at_checkout_in_minutes  \\\n",
       "0     505000  363965       mobile  canceled                           NaN   \n",
       "1     507750  269550       mobile     ended                         -81.0   \n",
       "2     508131  359049      connect     ended                          70.0   \n",
       "3     508865  299063      connect  canceled                           NaN   \n",
       "4     511440  313932       mobile     ended                           NaN   \n",
       "\n",
       "   previous_ended_rental_id  time_delta_with_previous_rental_in_minutes  \\\n",
       "0                       NaN                                         NaN   \n",
       "1                       NaN                                         NaN   \n",
       "2                       NaN                                         NaN   \n",
       "3                       NaN                                         NaN   \n",
       "4                       NaN                                         NaN   \n",
       "\n",
       "   Unnamed: 7  Unnamed: 8  \n",
       "0         NaN         NaN  \n",
       "1         NaN         NaN  \n",
       "2         NaN         NaN  \n",
       "3         NaN         NaN  \n",
       "4         NaN         NaN  "
      ]
     },
     "execution_count": 2,
     "metadata": {},
     "output_type": "execute_result"
    }
   ],
   "source": [
    "test = pd.read_excel(\"casestudy.xlsx\")\n",
    "\n",
    "test.head()"
   ]
  },
  {
   "cell_type": "code",
   "execution_count": 3,
   "metadata": {},
   "outputs": [],
   "source": [
    "# Delete Unecessary columns \n",
    "    \n",
    "test = test.drop(columns = ['Unnamed: 7', 'Unnamed: 8'])"
   ]
  },
  {
   "cell_type": "markdown",
   "metadata": {},
   "source": [
    "# <a name=\"p3\">Data Manipulation</a>\n",
    "\n",
    "Because the dataset has many Null values indicating either rentals checkouts over 12 hours afterwards or no renting at all, it might overlap with the next check-in, causing problems. For this reason, we will work separately with the dataframe by creating other variables. "
   ]
  },
  {
   "cell_type": "code",
   "execution_count": 4,
   "metadata": {},
   "outputs": [],
   "source": [
    "# Copy the original dataframe to a new variable named getaround for further analysis.\n",
    "\n",
    "getaround = test.copy()"
   ]
  },
  {
   "cell_type": "code",
   "execution_count": 5,
   "metadata": {},
   "outputs": [
    {
     "name": "stdout",
     "output_type": "stream",
     "text": [
      "<class 'pandas.core.frame.DataFrame'>\n",
      "RangeIndex: 21310 entries, 0 to 21309\n",
      "Data columns (total 7 columns):\n",
      " #   Column                                      Non-Null Count  Dtype  \n",
      "---  ------                                      --------------  -----  \n",
      " 0   rental_id                                   21310 non-null  int64  \n",
      " 1   car_id                                      21310 non-null  int64  \n",
      " 2   checkin_type                                21310 non-null  object \n",
      " 3   state                                       21310 non-null  object \n",
      " 4   delay_at_checkout_in_minutes                16346 non-null  float64\n",
      " 5   previous_ended_rental_id                    1841 non-null   float64\n",
      " 6   time_delta_with_previous_rental_in_minutes  1841 non-null   float64\n",
      "dtypes: float64(3), int64(2), object(2)\n",
      "memory usage: 1.1+ MB\n"
     ]
    }
   ],
   "source": [
    "# Information about dataset \n",
    "\n",
    "getaround.info()"
   ]
  },
  {
   "cell_type": "markdown",
   "metadata": {},
   "source": [
    "The dataframe has **21310 entries** and **7 columns**, note the 3 last columns, `\"delay_at_checkout_in_minutes\"`,`\"previous_ended_rental_id\"`, `\"time_delta_with_previous_rental_in_minutes\"` have many null values."
   ]
  },
  {
   "cell_type": "code",
   "execution_count": 6,
   "metadata": {},
   "outputs": [
    {
     "data": {
      "text/plain": [
       "rental_id                                         0\n",
       "car_id                                            0\n",
       "checkin_type                                      0\n",
       "state                                             0\n",
       "delay_at_checkout_in_minutes                   4964\n",
       "previous_ended_rental_id                      19469\n",
       "time_delta_with_previous_rental_in_minutes    19469\n",
       "dtype: int64"
      ]
     },
     "execution_count": 6,
     "metadata": {},
     "output_type": "execute_result"
    }
   ],
   "source": [
    "# Checking out null values in all columns and as expected there are lots.\n",
    "\n",
    "getaround.isna().sum()"
   ]
  },
  {
   "cell_type": "code",
   "execution_count": 7,
   "metadata": {},
   "outputs": [],
   "source": [
    "# Fill Null float values with 0\n",
    "\n",
    "getaround = getaround.fillna(0)"
   ]
  },
  {
   "cell_type": "markdown",
   "metadata": {},
   "source": [
    "Most of **missing data** are null values from `numeric` columns, the reason we replaced them with **0.**"
   ]
  },
  {
   "cell_type": "markdown",
   "metadata": {},
   "source": [
    "# <a name=\"p4\">Exploratory Data Analysis</a>"
   ]
  },
  {
   "cell_type": "code",
   "execution_count": 8,
   "metadata": {},
   "outputs": [
    {
     "data": {
      "image/png": "[encoded data removed]",
      "text/plain": [
       "<Figure size 720x576 with 2 Axes>"
      ]
     },
     "metadata": {
      "needs_background": "light"
     },
     "output_type": "display_data"
    }
   ],
   "source": [
    "# Create a Heatmap\n",
    "\n",
    "corr = getaround.corr()\n",
    "#Plot figsize\n",
    "fig, ax = plt.subplots(figsize=(10, 8))\n",
    "#Generate Heat Map, allow annotations and place floats in map\n",
    "sns.heatmap(corr, cmap='flare', annot=True, fmt=\".2f\").set_title(\"Correlation Heatmap Among Variables\")\n",
    "#Apply xticks\n",
    "plt.xticks(range(len(corr.columns)), corr.columns);\n",
    "#Apply yticks\n",
    "plt.yticks(range(len(corr.columns)), corr.columns)\n",
    "#show plot\n",
    "plt.show()"
   ]
  },
  {
   "cell_type": "markdown",
   "metadata": {},
   "source": [
    "Apart from `previous_ended_rental_id` and `time_delta_with_previous_rental_in_minutes` that has **72% correlation** each other, the other columns are not correlated."
   ]
  },
  {
   "cell_type": "markdown",
   "metadata": {},
   "source": [
    "# Check-in Type Analysis"
   ]
  },
  {
   "cell_type": "code",
   "execution_count": 9,
   "metadata": {},
   "outputs": [
    {
     "data": {
      "image/png": "[encoded data removed]",
      "text/plain": [
       "<Figure size 936x360 with 3 Axes>"
      ]
     },
     "metadata": {
      "needs_background": "light"
     },
     "output_type": "display_data"
    },
    {
     "data": {
      "text/plain": [
       "checkin_type  state   \n",
       "mobile        ended       14536\n",
       "connect       ended        3509\n",
       "mobile        canceled     2467\n",
       "connect       canceled      798\n",
       "Name: state, dtype: int64"
      ]
     },
     "execution_count": 9,
     "metadata": {},
     "output_type": "execute_result"
    }
   ],
   "source": [
    "# Create a grouped Barplot\n",
    "plt.figure(figsize=(13,5))\n",
    "plt.subplot(121)\n",
    "sns.countplot(x='checkin_type', data= getaround, hue='state', palette='flare').set_title(\"State Status by Check-in Type\")\n",
    "\n",
    "# Create a Heatmap Matrix\n",
    "plt.subplot(122)\n",
    "sns.heatmap(pd.crosstab(getaround['checkin_type'], getaround['state'],normalize='index'),cmap=\"flare\", annot=True)\n",
    "plt.title('Check-in Type Vs State')\n",
    "\n",
    "plt.tight_layout()\n",
    "plt.show()\n",
    "\n",
    "getaround.groupby('checkin_type')['state'].value_counts().sort_values(ascending=False)"
   ]
  },
  {
   "cell_type": "markdown",
   "metadata": {},
   "source": [
    "Most customers prefer the **Mobile App** instead of the Connect one, we raised `4 hypotheses` for that:\n",
    "- Customers rather see the car before renting it. \n",
    "- Customers trust more in the app due to the agreement bewteen them and the car`s owner.\n",
    "- Customers are not familiar with Connect.\n",
    "- Customers do not trust whether the car will be ready on time or not."
   ]
  },
  {
   "cell_type": "markdown",
   "metadata": {},
   "source": [
    "# Canceled Rentals Analysis"
   ]
  },
  {
   "cell_type": "code",
   "execution_count": 10,
   "metadata": {},
   "outputs": [
    {
     "data": {
      "text/html": [
       "<div>\n",
       "<style scoped>\n",
       "    .dataframe tbody tr th:only-of-type {\n",
       "        vertical-align: middle;\n",
       "    }\n",
       "\n",
       "    .dataframe tbody tr th {\n",
       "        vertical-align: top;\n",
       "    }\n",
       "\n",
       "    .dataframe thead th {\n",
       "        text-align: right;\n",
       "    }\n",
       "</style>\n",
       "<table border=\"1\" class=\"dataframe\">\n",
       "  <thead>\n",
       "    <tr style=\"text-align: right;\">\n",
       "      <th></th>\n",
       "      <th>delay_at_checkout_in_minutes</th>\n",
       "      <th>time_delta_with_previous_rental_in_minutes</th>\n",
       "    </tr>\n",
       "  </thead>\n",
       "  <tbody>\n",
       "    <tr>\n",
       "      <th>count</th>\n",
       "      <td>3265.000000</td>\n",
       "      <td>3265.000000</td>\n",
       "    </tr>\n",
       "    <tr>\n",
       "      <th>mean</th>\n",
       "      <td>-5.350077</td>\n",
       "      <td>20.683002</td>\n",
       "    </tr>\n",
       "    <tr>\n",
       "      <th>std</th>\n",
       "      <td>305.704330</td>\n",
       "      <td>100.297928</td>\n",
       "    </tr>\n",
       "    <tr>\n",
       "      <th>min</th>\n",
       "      <td>-17468.000000</td>\n",
       "      <td>0.000000</td>\n",
       "    </tr>\n",
       "    <tr>\n",
       "      <th>25%</th>\n",
       "      <td>0.000000</td>\n",
       "      <td>0.000000</td>\n",
       "    </tr>\n",
       "    <tr>\n",
       "      <th>50%</th>\n",
       "      <td>0.000000</td>\n",
       "      <td>0.000000</td>\n",
       "    </tr>\n",
       "    <tr>\n",
       "      <th>75%</th>\n",
       "      <td>0.000000</td>\n",
       "      <td>0.000000</td>\n",
       "    </tr>\n",
       "    <tr>\n",
       "      <th>max</th>\n",
       "      <td>0.000000</td>\n",
       "      <td>720.000000</td>\n",
       "    </tr>\n",
       "  </tbody>\n",
       "</table>\n",
       "</div>"
      ],
      "text/plain": [
       "       delay_at_checkout_in_minutes  \\\n",
       "count                   3265.000000   \n",
       "mean                      -5.350077   \n",
       "std                      305.704330   \n",
       "min                   -17468.000000   \n",
       "25%                        0.000000   \n",
       "50%                        0.000000   \n",
       "75%                        0.000000   \n",
       "max                        0.000000   \n",
       "\n",
       "       time_delta_with_previous_rental_in_minutes  \n",
       "count                                 3265.000000  \n",
       "mean                                    20.683002  \n",
       "std                                    100.297928  \n",
       "min                                      0.000000  \n",
       "25%                                      0.000000  \n",
       "50%                                      0.000000  \n",
       "75%                                      0.000000  \n",
       "max                                    720.000000  "
      ]
     },
     "execution_count": 10,
     "metadata": {},
     "output_type": "execute_result"
    }
   ],
   "source": [
    "# Sliced the Cancelled Transactions \n",
    "\n",
    "canceled = getaround[getaround['state']=='canceled']\n",
    "\n",
    "canceled[['delay_at_checkout_in_minutes','time_delta_with_previous_rental_in_minutes']].describe()"
   ]
  },
  {
   "cell_type": "markdown",
   "metadata": {},
   "source": [
    "We sliced the `cancelled transactions` to apply statistical analysis on them, where we found out the `average check-out delay` is **5 minutes in advance** and the `average next rental` is **20 minutes after this cancelling**.\n",
    "\n",
    "My Hypotheses are: \n",
    "- Customers changed their minds on renting.\n",
    "- Customers are on rush hours so, they do not want to be stuck in the traffic, we assume this because the average next rental is 20 minutes afterwards."
   ]
  },
  {
   "cell_type": "code",
   "execution_count": 11,
   "metadata": {},
   "outputs": [
    {
     "data": {
      "image/png": "[encoded data removed]",
      "text/plain": [
       "<Figure size 432x432 with 1 Axes>"
      ]
     },
     "metadata": {},
     "output_type": "display_data"
    },
    {
     "data": {
      "text/plain": [
       "mobile     2467\n",
       "connect     798\n",
       "Name: checkin_type, dtype: int64"
      ]
     },
     "execution_count": 11,
     "metadata": {},
     "output_type": "execute_result"
    }
   ],
   "source": [
    "# Create a Pie Chart with percentage\n",
    "\n",
    "label = 'Mobile','Connect' \n",
    "data = [getaround[(getaround.checkin_type=='mobile') & (getaround.state=='canceled')]['checkin_type'].count(),getaround[(getaround.checkin_type=='connect') & (getaround.state=='canceled')]['checkin_type'].count() ]\n",
    "col =('m','mediumpurple')\n",
    "fig, ax = plt.subplots(figsize=(6,6))\n",
    "ax.pie(data , labels=label, autopct='%1.f%%', startangle=90,colors=col)\n",
    "ax.axis('equal')\n",
    "\n",
    "plt.title('Canceled Transactions per Checking Type')\n",
    "plt.show()\n",
    "\n",
    "\n",
    "getaround[getaround.state == 'canceled'].checkin_type.value_counts()"
   ]
  },
  {
   "cell_type": "markdown",
   "metadata": {},
   "source": [
    "Almost **1/4** of all `Cancelled transactions` come from the **Connect**, although it is not much popular, it shows a significant cancelling percentage. **76%** of Cancelled transactions are from **Mobile App** users.\n",
    "\n",
    "Hypotheses:\n",
    "- Check-out delays that do not leave the car ready for the next rental.\n",
    "- Car appears available to customers on the app but, they have not been checked-out yet."
   ]
  },
  {
   "cell_type": "markdown",
   "metadata": {},
   "source": [
    "## Ended Rentals Analysis"
   ]
  },
  {
   "cell_type": "code",
   "execution_count": 12,
   "metadata": {},
   "outputs": [
    {
     "data": {
      "text/html": [
       "<div>\n",
       "<style scoped>\n",
       "    .dataframe tbody tr th:only-of-type {\n",
       "        vertical-align: middle;\n",
       "    }\n",
       "\n",
       "    .dataframe tbody tr th {\n",
       "        vertical-align: top;\n",
       "    }\n",
       "\n",
       "    .dataframe thead th {\n",
       "        text-align: right;\n",
       "    }\n",
       "</style>\n",
       "<table border=\"1\" class=\"dataframe\">\n",
       "  <thead>\n",
       "    <tr style=\"text-align: right;\">\n",
       "      <th></th>\n",
       "      <th>rental_id</th>\n",
       "      <th>car_id</th>\n",
       "      <th>checkin_type</th>\n",
       "      <th>state</th>\n",
       "      <th>delay_at_checkout_in_minutes</th>\n",
       "      <th>previous_ended_rental_id</th>\n",
       "      <th>time_delta_with_previous_rental_in_minutes</th>\n",
       "    </tr>\n",
       "  </thead>\n",
       "  <tbody>\n",
       "    <tr>\n",
       "      <th>1</th>\n",
       "      <td>507750</td>\n",
       "      <td>269550</td>\n",
       "      <td>mobile</td>\n",
       "      <td>ended</td>\n",
       "      <td>-81.0</td>\n",
       "      <td>0.0</td>\n",
       "      <td>0.0</td>\n",
       "    </tr>\n",
       "    <tr>\n",
       "      <th>2</th>\n",
       "      <td>508131</td>\n",
       "      <td>359049</td>\n",
       "      <td>connect</td>\n",
       "      <td>ended</td>\n",
       "      <td>70.0</td>\n",
       "      <td>0.0</td>\n",
       "      <td>0.0</td>\n",
       "    </tr>\n",
       "    <tr>\n",
       "      <th>4</th>\n",
       "      <td>511440</td>\n",
       "      <td>313932</td>\n",
       "      <td>mobile</td>\n",
       "      <td>ended</td>\n",
       "      <td>0.0</td>\n",
       "      <td>0.0</td>\n",
       "      <td>0.0</td>\n",
       "    </tr>\n",
       "    <tr>\n",
       "      <th>5</th>\n",
       "      <td>511626</td>\n",
       "      <td>398802</td>\n",
       "      <td>mobile</td>\n",
       "      <td>ended</td>\n",
       "      <td>-203.0</td>\n",
       "      <td>0.0</td>\n",
       "      <td>0.0</td>\n",
       "    </tr>\n",
       "    <tr>\n",
       "      <th>6</th>\n",
       "      <td>511639</td>\n",
       "      <td>370585</td>\n",
       "      <td>connect</td>\n",
       "      <td>ended</td>\n",
       "      <td>-15.0</td>\n",
       "      <td>563782.0</td>\n",
       "      <td>570.0</td>\n",
       "    </tr>\n",
       "    <tr>\n",
       "      <th>...</th>\n",
       "      <td>...</td>\n",
       "      <td>...</td>\n",
       "      <td>...</td>\n",
       "      <td>...</td>\n",
       "      <td>...</td>\n",
       "      <td>...</td>\n",
       "      <td>...</td>\n",
       "    </tr>\n",
       "    <tr>\n",
       "      <th>21305</th>\n",
       "      <td>573446</td>\n",
       "      <td>380069</td>\n",
       "      <td>mobile</td>\n",
       "      <td>ended</td>\n",
       "      <td>0.0</td>\n",
       "      <td>573429.0</td>\n",
       "      <td>300.0</td>\n",
       "    </tr>\n",
       "    <tr>\n",
       "      <th>21306</th>\n",
       "      <td>573790</td>\n",
       "      <td>341965</td>\n",
       "      <td>mobile</td>\n",
       "      <td>ended</td>\n",
       "      <td>-337.0</td>\n",
       "      <td>0.0</td>\n",
       "      <td>0.0</td>\n",
       "    </tr>\n",
       "    <tr>\n",
       "      <th>21307</th>\n",
       "      <td>573791</td>\n",
       "      <td>364890</td>\n",
       "      <td>mobile</td>\n",
       "      <td>ended</td>\n",
       "      <td>144.0</td>\n",
       "      <td>0.0</td>\n",
       "      <td>0.0</td>\n",
       "    </tr>\n",
       "    <tr>\n",
       "      <th>21308</th>\n",
       "      <td>574852</td>\n",
       "      <td>362531</td>\n",
       "      <td>connect</td>\n",
       "      <td>ended</td>\n",
       "      <td>-76.0</td>\n",
       "      <td>0.0</td>\n",
       "      <td>0.0</td>\n",
       "    </tr>\n",
       "    <tr>\n",
       "      <th>21309</th>\n",
       "      <td>575056</td>\n",
       "      <td>351549</td>\n",
       "      <td>connect</td>\n",
       "      <td>ended</td>\n",
       "      <td>35.0</td>\n",
       "      <td>0.0</td>\n",
       "      <td>0.0</td>\n",
       "    </tr>\n",
       "  </tbody>\n",
       "</table>\n",
       "<p>18045 rows × 7 columns</p>\n",
       "</div>"
      ],
      "text/plain": [
       "       rental_id  car_id checkin_type  state  delay_at_checkout_in_minutes  \\\n",
       "1         507750  269550       mobile  ended                         -81.0   \n",
       "2         508131  359049      connect  ended                          70.0   \n",
       "4         511440  313932       mobile  ended                           0.0   \n",
       "5         511626  398802       mobile  ended                        -203.0   \n",
       "6         511639  370585      connect  ended                         -15.0   \n",
       "...          ...     ...          ...    ...                           ...   \n",
       "21305     573446  380069       mobile  ended                           0.0   \n",
       "21306     573790  341965       mobile  ended                        -337.0   \n",
       "21307     573791  364890       mobile  ended                         144.0   \n",
       "21308     574852  362531      connect  ended                         -76.0   \n",
       "21309     575056  351549      connect  ended                          35.0   \n",
       "\n",
       "       previous_ended_rental_id  time_delta_with_previous_rental_in_minutes  \n",
       "1                           0.0                                         0.0  \n",
       "2                           0.0                                         0.0  \n",
       "4                           0.0                                         0.0  \n",
       "5                           0.0                                         0.0  \n",
       "6                      563782.0                                       570.0  \n",
       "...                         ...                                         ...  \n",
       "21305                  573429.0                                       300.0  \n",
       "21306                       0.0                                         0.0  \n",
       "21307                       0.0                                         0.0  \n",
       "21308                       0.0                                         0.0  \n",
       "21309                       0.0                                         0.0  \n",
       "\n",
       "[18045 rows x 7 columns]"
      ]
     },
     "execution_count": 12,
     "metadata": {},
     "output_type": "execute_result"
    }
   ],
   "source": [
    "# sliced the data to apply statistical analysis on the Ended Transactions\n",
    "\n",
    "ended = getaround[getaround['state'] == 'ended']\n",
    "ended"
   ]
  },
  {
   "cell_type": "code",
   "execution_count": 13,
   "metadata": {},
   "outputs": [
    {
     "data": {
      "text/html": [
       "<div>\n",
       "<style scoped>\n",
       "    .dataframe tbody tr th:only-of-type {\n",
       "        vertical-align: middle;\n",
       "    }\n",
       "\n",
       "    .dataframe tbody tr th {\n",
       "        vertical-align: top;\n",
       "    }\n",
       "\n",
       "    .dataframe thead th {\n",
       "        text-align: right;\n",
       "    }\n",
       "</style>\n",
       "<table border=\"1\" class=\"dataframe\">\n",
       "  <thead>\n",
       "    <tr style=\"text-align: right;\">\n",
       "      <th></th>\n",
       "      <th>delay_at_checkout_in_minutes</th>\n",
       "      <th>time_delta_with_previous_rental_in_minutes</th>\n",
       "    </tr>\n",
       "  </thead>\n",
       "  <tbody>\n",
       "    <tr>\n",
       "      <th>count</th>\n",
       "      <td>18045.000000</td>\n",
       "      <td>18045.000000</td>\n",
       "    </tr>\n",
       "    <tr>\n",
       "      <th>mean</th>\n",
       "      <td>55.048434</td>\n",
       "      <td>24.751455</td>\n",
       "    </tr>\n",
       "    <tr>\n",
       "      <th>std</th>\n",
       "      <td>945.397306</td>\n",
       "      <td>109.810555</td>\n",
       "    </tr>\n",
       "    <tr>\n",
       "      <th>min</th>\n",
       "      <td>-22433.000000</td>\n",
       "      <td>0.000000</td>\n",
       "    </tr>\n",
       "    <tr>\n",
       "      <th>25%</th>\n",
       "      <td>-28.000000</td>\n",
       "      <td>0.000000</td>\n",
       "    </tr>\n",
       "    <tr>\n",
       "      <th>50%</th>\n",
       "      <td>3.000000</td>\n",
       "      <td>0.000000</td>\n",
       "    </tr>\n",
       "    <tr>\n",
       "      <th>75%</th>\n",
       "      <td>57.000000</td>\n",
       "      <td>0.000000</td>\n",
       "    </tr>\n",
       "    <tr>\n",
       "      <th>max</th>\n",
       "      <td>71084.000000</td>\n",
       "      <td>720.000000</td>\n",
       "    </tr>\n",
       "  </tbody>\n",
       "</table>\n",
       "</div>"
      ],
      "text/plain": [
       "       delay_at_checkout_in_minutes  \\\n",
       "count                  18045.000000   \n",
       "mean                      55.048434   \n",
       "std                      945.397306   \n",
       "min                   -22433.000000   \n",
       "25%                      -28.000000   \n",
       "50%                        3.000000   \n",
       "75%                       57.000000   \n",
       "max                    71084.000000   \n",
       "\n",
       "       time_delta_with_previous_rental_in_minutes  \n",
       "count                                18045.000000  \n",
       "mean                                    24.751455  \n",
       "std                                    109.810555  \n",
       "min                                      0.000000  \n",
       "25%                                      0.000000  \n",
       "50%                                      0.000000  \n",
       "75%                                      0.000000  \n",
       "max                                    720.000000  "
      ]
     },
     "execution_count": 13,
     "metadata": {},
     "output_type": "execute_result"
    }
   ],
   "source": [
    "# Applied Statistical Analysis \n",
    "\n",
    "ended[['delay_at_checkout_in_minutes', 'time_delta_with_previous_rental_in_minutes']].describe()"
   ]
  },
  {
   "cell_type": "markdown",
   "metadata": {},
   "source": [
    "The average Check-out delay is `55 minutes late`, there is an unlikely value for the minimum as `-22433`, which is an outlier. **25%** of Ended Transactions check-out `28 minutes in advance`, **50%** check-out `3 minutes late` and **75%** check-out `57 minutes late.`\n",
    "\n",
    "The average time gap to the `next rental is 24 minutes.`\n",
    "\n"
   ]
  },
  {
   "cell_type": "markdown",
   "metadata": {},
   "source": [
    "# <a name=\"p5\">Hypothesis Testing</a>"
   ]
  },
  {
   "cell_type": "code",
   "execution_count": 14,
   "metadata": {},
   "outputs": [],
   "source": [
    "# Created a function to call back on my testings.\n",
    "\n",
    "from scipy import stats\n",
    "\n",
    "def t_test(a,b):\n",
    "    _, p_value = stats.ttest_ind(a.values,b=b.values,equal_var=True)\n",
    "    if(p_value<0.05):\n",
    "        print('\"\\033[1m\" We accept alternate hypothesis that there is a statistical difference')\n",
    "    else:\n",
    "        print('We accept null hypothesis that there is no statistical difference')\n",
    "    \n",
    "    print('P value is ', p_value)"
   ]
  },
  {
   "cell_type": "markdown",
   "metadata": {},
   "source": [
    "**Does the average checkout delay influence successful Ended Transactions for Mobile and Connect users?**"
   ]
  },
  {
   "cell_type": "code",
   "execution_count": 15,
   "metadata": {},
   "outputs": [
    {
     "name": "stdout",
     "output_type": "stream",
     "text": [
      "This is the shape:  14536 3509\n",
      "\"\u001b[1m\" We accept alternate hypothesis that there is a statistical difference\n",
      "P value is  1.0462016309237e-11\n"
     ]
    }
   ],
   "source": [
    "a = getaround[(getaround.state=='ended')&(getaround.checkin_type=='mobile')].groupby('rental_id').delay_at_checkout_in_minutes.mean()\n",
    "b = getaround[(getaround.state=='ended')&(getaround.checkin_type=='connect')].groupby('rental_id').delay_at_checkout_in_minutes.mean()\n",
    "print(\"This is the shape: \", a.shape[0],b.shape[0])\n",
    "t_test(a,b)"
   ]
  },
  {
   "cell_type": "markdown",
   "metadata": {},
   "source": [
    "**Yes**, Checkout delays influence ended transactions for Mobile and Connect users, we believe for the renting to happen the car has to be enable for rental, it seems obvious but if all customers delay at the same time, Getaround would struggle with revenues."
   ]
  },
  {
   "cell_type": "markdown",
   "metadata": {},
   "source": [
    "**Does the average checkout delay influence cancelled Transactions for Mobile and Connect users?**"
   ]
  },
  {
   "cell_type": "code",
   "execution_count": 16,
   "metadata": {},
   "outputs": [
    {
     "name": "stdout",
     "output_type": "stream",
     "text": [
      "This is the shape:  2467 798\n",
      "We accept null hypothesis that there is no statistical difference\n",
      "P value is  0.5696089938303379\n"
     ]
    }
   ],
   "source": [
    "a = getaround[(getaround.state=='canceled')&(getaround.checkin_type=='mobile')].groupby('rental_id').delay_at_checkout_in_minutes.mean()\n",
    "b = getaround[(getaround.state=='canceled')&(getaround.checkin_type=='connect')].groupby('rental_id').delay_at_checkout_in_minutes.mean()\n",
    "print(\"This is the shape: \", a.shape[0],b.shape[0])\n",
    "t_test(a,b)"
   ]
  },
  {
   "cell_type": "markdown",
   "metadata": {},
   "source": [
    "**No**, delayed checkouts do not influence on customer`s decisions to cancel the renting based on the two check-in types analysed, there would have other reasons for that, we believe customers may find the car uncomfortable, or not fully fueled, or dirty from the previous rental, or they have found a quicker way to reach their destination."
   ]
  },
  {
   "cell_type": "markdown",
   "metadata": {},
   "source": [
    "**Does the average time gap between previous and next rental influence ended transactions for Mobile and Connect users?**"
   ]
  },
  {
   "cell_type": "code",
   "execution_count": 17,
   "metadata": {},
   "outputs": [
    {
     "name": "stdout",
     "output_type": "stream",
     "text": [
      "This is the shape:  14536 3509\n",
      "\"\u001b[1m\" We accept alternate hypothesis that there is a statistical difference\n",
      "P value is  9.958706234841174e-77\n"
     ]
    }
   ],
   "source": [
    "a = getaround[(getaround.state=='ended')&(getaround.checkin_type=='mobile')].groupby('rental_id').time_delta_with_previous_rental_in_minutes.mean()\n",
    "b = getaround[(getaround.state=='ended')&(getaround.checkin_type=='connect')].groupby('rental_id').time_delta_with_previous_rental_in_minutes.mean()\n",
    "print(\"This is the shape: \", a.shape[0],b.shape[0])\n",
    "t_test(a,b)"
   ]
  },
  {
   "cell_type": "markdown",
   "metadata": {},
   "source": [
    "**Yes**, there is a massive statistical probability of the previous and next rental time gap to influence on ended transactions for both check-in types. The main reason is the waiting for the car availability, `this is the biggest issue found`."
   ]
  },
  {
   "cell_type": "markdown",
   "metadata": {},
   "source": [
    "**Does the average time gap between previous and next rental influence cancelled transactions for Mobile and Connect users?**"
   ]
  },
  {
   "cell_type": "code",
   "execution_count": 18,
   "metadata": {},
   "outputs": [
    {
     "name": "stdout",
     "output_type": "stream",
     "text": [
      "This is the shape:  2467 798\n",
      "\"\u001b[1m\" We accept alternate hypothesis that there is a statistical difference\n",
      "P value is  1.2192368116622203e-20\n"
     ]
    }
   ],
   "source": [
    "a = getaround[(getaround.state=='canceled')&(getaround.checkin_type=='mobile')].groupby('rental_id').time_delta_with_previous_rental_in_minutes.mean()\n",
    "b = getaround[(getaround.state=='canceled')&(getaround.checkin_type=='connect')].groupby('rental_id').time_delta_with_previous_rental_in_minutes.mean()\n",
    "print(\"This is the shape: \", a.shape[0],b.shape[0])\n",
    "t_test(a,b)"
   ]
  },
  {
   "cell_type": "markdown",
   "metadata": {},
   "source": [
    "**Yes**, consequently cancellings might happen if the car appears available in the app or parked for Connect users but it is actually not. This is a big issue to Customer Lifetime Value, Churn, Company`s brand identity and Revenue."
   ]
  },
  {
   "cell_type": "markdown",
   "metadata": {},
   "source": [
    "# Check-out Analysis\n",
    "\n",
    "It seems almost all problems are caused by the Check-out Delays that affect the next rental."
   ]
  },
  {
   "cell_type": "code",
   "execution_count": 19,
   "metadata": {},
   "outputs": [
    {
     "data": {
      "text/plain": [
       "Text(0.5, 1.0, 'Checkout Delays')"
      ]
     },
     "execution_count": 19,
     "metadata": {},
     "output_type": "execute_result"
    },
    {
     "data": {
      "image/png": "[encoded data removed]",
      "text/plain": [
       "<Figure size 1440x720 with 1 Axes>"
      ]
     },
     "metadata": {
      "needs_background": "light"
     },
     "output_type": "display_data"
    }
   ],
   "source": [
    "# Create a Boxplot to analyse outliers\n",
    "\n",
    "fig, ax = plt.subplots(figsize=(20, 10))\n",
    "plt.xlim(-500, 600)\n",
    "sns.boxplot(test['delay_at_checkout_in_minutes'], ax=ax, palette='flare').set_title(\"Checkout Delays\")"
   ]
  },
  {
   "cell_type": "markdown",
   "metadata": {},
   "source": [
    "The boxplot shows a range that varies from **approximately** `150 minutes checkouts in advance till 190 minutes late checkouts`. Anything higher is an outlier, and this data has many."
   ]
  },
  {
   "cell_type": "code",
   "execution_count": 20,
   "metadata": {},
   "outputs": [
    {
     "data": {
      "text/plain": [
       "(-300.0, 700.0)"
      ]
     },
     "execution_count": 20,
     "metadata": {},
     "output_type": "execute_result"
    },
    {
     "data": {
      "image/png": "[encoded data removed]",
      "text/plain": [
       "<Figure size 1440x720 with 1 Axes>"
      ]
     },
     "metadata": {
      "needs_background": "light"
     },
     "output_type": "display_data"
    }
   ],
   "source": [
    "# Create a Histplot to analyze data distribution \n",
    "\n",
    "fig, ax = plt.subplots(figsize=(20, 10))\n",
    "sns.histplot(data=test, x=ended['delay_at_checkout_in_minutes'], color='m').set_title(\"Delayed Check-outs Histplot\")\n",
    "plt.xlim(-300, 700)"
   ]
  },
  {
   "cell_type": "markdown",
   "metadata": {},
   "source": [
    "The histplot shows the curve `starts to flatten at 200 minutes late`, there is a good sign regards the deadline to display rented cars,to make them available for next rentals on the app."
   ]
  },
  {
   "cell_type": "code",
   "execution_count": 21,
   "metadata": {},
   "outputs": [
    {
     "data": {
      "text/html": [
       "<div>\n",
       "<style scoped>\n",
       "    .dataframe tbody tr th:only-of-type {\n",
       "        vertical-align: middle;\n",
       "    }\n",
       "\n",
       "    .dataframe tbody tr th {\n",
       "        vertical-align: top;\n",
       "    }\n",
       "\n",
       "    .dataframe thead th {\n",
       "        text-align: right;\n",
       "    }\n",
       "</style>\n",
       "<table border=\"1\" class=\"dataframe\">\n",
       "  <thead>\n",
       "    <tr style=\"text-align: right;\">\n",
       "      <th></th>\n",
       "      <th>delay_at_checkout_in_minutes</th>\n",
       "      <th>time_delta_with_previous_rental_in_minutes</th>\n",
       "    </tr>\n",
       "  </thead>\n",
       "  <tbody>\n",
       "    <tr>\n",
       "      <th>count</th>\n",
       "      <td>9404.000000</td>\n",
       "      <td>802.000000</td>\n",
       "    </tr>\n",
       "    <tr>\n",
       "      <th>mean</th>\n",
       "      <td>201.791472</td>\n",
       "      <td>259.376559</td>\n",
       "    </tr>\n",
       "    <tr>\n",
       "      <th>std</th>\n",
       "      <td>1243.645804</td>\n",
       "      <td>248.481753</td>\n",
       "    </tr>\n",
       "    <tr>\n",
       "      <th>min</th>\n",
       "      <td>1.000000</td>\n",
       "      <td>0.000000</td>\n",
       "    </tr>\n",
       "    <tr>\n",
       "      <th>25%</th>\n",
       "      <td>19.000000</td>\n",
       "      <td>60.000000</td>\n",
       "    </tr>\n",
       "    <tr>\n",
       "      <th>50%</th>\n",
       "      <td>53.000000</td>\n",
       "      <td>150.000000</td>\n",
       "    </tr>\n",
       "    <tr>\n",
       "      <th>75%</th>\n",
       "      <td>131.000000</td>\n",
       "      <td>480.000000</td>\n",
       "    </tr>\n",
       "    <tr>\n",
       "      <th>max</th>\n",
       "      <td>71084.000000</td>\n",
       "      <td>720.000000</td>\n",
       "    </tr>\n",
       "  </tbody>\n",
       "</table>\n",
       "</div>"
      ],
      "text/plain": [
       "       delay_at_checkout_in_minutes  \\\n",
       "count                   9404.000000   \n",
       "mean                     201.791472   \n",
       "std                     1243.645804   \n",
       "min                        1.000000   \n",
       "25%                       19.000000   \n",
       "50%                       53.000000   \n",
       "75%                      131.000000   \n",
       "max                    71084.000000   \n",
       "\n",
       "       time_delta_with_previous_rental_in_minutes  \n",
       "count                                  802.000000  \n",
       "mean                                   259.376559  \n",
       "std                                    248.481753  \n",
       "min                                      0.000000  \n",
       "25%                                     60.000000  \n",
       "50%                                    150.000000  \n",
       "75%                                    480.000000  \n",
       "max                                    720.000000  "
      ]
     },
     "execution_count": 21,
     "metadata": {},
     "output_type": "execute_result"
    }
   ],
   "source": [
    "# Apply statistical Analysis on late checkouts\n",
    "\n",
    "late_checkout = test[test['delay_at_checkout_in_minutes']>0]\n",
    "\n",
    "late_checkout[['delay_at_checkout_in_minutes','time_delta_with_previous_rental_in_minutes']].describe()"
   ]
  },
  {
   "cell_type": "markdown",
   "metadata": {},
   "source": [
    "As the graphs had shown, the average checkout delay is **201 minutes**, that responds the **\"how long should the minimum delay be?\"** question.\n",
    "\n",
    "An interesting fact is the `next rental` starts `22 minutes` after delayed checkouts in average."
   ]
  },
  {
   "cell_type": "code",
   "execution_count": 22,
   "metadata": {},
   "outputs": [
    {
     "data": {
      "text/html": [
       "<div>\n",
       "<style scoped>\n",
       "    .dataframe tbody tr th:only-of-type {\n",
       "        vertical-align: middle;\n",
       "    }\n",
       "\n",
       "    .dataframe tbody tr th {\n",
       "        vertical-align: top;\n",
       "    }\n",
       "\n",
       "    .dataframe thead th {\n",
       "        text-align: right;\n",
       "    }\n",
       "</style>\n",
       "<table border=\"1\" class=\"dataframe\">\n",
       "  <thead>\n",
       "    <tr style=\"text-align: right;\">\n",
       "      <th></th>\n",
       "      <th>delay_at_checkout_in_minutes</th>\n",
       "      <th>time_delta_with_previous_rental_in_minutes</th>\n",
       "    </tr>\n",
       "  </thead>\n",
       "  <tbody>\n",
       "    <tr>\n",
       "      <th>count</th>\n",
       "      <td>1822.0</td>\n",
       "      <td>1822.000000</td>\n",
       "    </tr>\n",
       "    <tr>\n",
       "      <th>mean</th>\n",
       "      <td>0.0</td>\n",
       "      <td>16.416026</td>\n",
       "    </tr>\n",
       "    <tr>\n",
       "      <th>std</th>\n",
       "      <td>0.0</td>\n",
       "      <td>89.902310</td>\n",
       "    </tr>\n",
       "    <tr>\n",
       "      <th>min</th>\n",
       "      <td>0.0</td>\n",
       "      <td>0.000000</td>\n",
       "    </tr>\n",
       "    <tr>\n",
       "      <th>25%</th>\n",
       "      <td>0.0</td>\n",
       "      <td>0.000000</td>\n",
       "    </tr>\n",
       "    <tr>\n",
       "      <th>50%</th>\n",
       "      <td>0.0</td>\n",
       "      <td>0.000000</td>\n",
       "    </tr>\n",
       "    <tr>\n",
       "      <th>75%</th>\n",
       "      <td>0.0</td>\n",
       "      <td>0.000000</td>\n",
       "    </tr>\n",
       "    <tr>\n",
       "      <th>max</th>\n",
       "      <td>0.0</td>\n",
       "      <td>720.000000</td>\n",
       "    </tr>\n",
       "  </tbody>\n",
       "</table>\n",
       "</div>"
      ],
      "text/plain": [
       "       delay_at_checkout_in_minutes  \\\n",
       "count                        1822.0   \n",
       "mean                            0.0   \n",
       "std                             0.0   \n",
       "min                             0.0   \n",
       "25%                             0.0   \n",
       "50%                             0.0   \n",
       "75%                             0.0   \n",
       "max                             0.0   \n",
       "\n",
       "       time_delta_with_previous_rental_in_minutes  \n",
       "count                                 1822.000000  \n",
       "mean                                    16.416026  \n",
       "std                                     89.902310  \n",
       "min                                      0.000000  \n",
       "25%                                      0.000000  \n",
       "50%                                      0.000000  \n",
       "75%                                      0.000000  \n",
       "max                                    720.000000  "
      ]
     },
     "execution_count": 22,
     "metadata": {},
     "output_type": "execute_result"
    }
   ],
   "source": [
    "# Apply statistical Analysis for Customers who checked out at the exact time.\n",
    "\n",
    "exact_checkout = ended[ended['delay_at_checkout_in_minutes'] == 0]\n",
    "\n",
    "exact_checkout[['delay_at_checkout_in_minutes','time_delta_with_previous_rental_in_minutes']].describe()"
   ]
  },
  {
   "cell_type": "markdown",
   "metadata": {},
   "source": [
    "The most interesting thing here is the next rental starts `16 minutes` in average after the correct checkout time. It is the lowest value so far, that would increase company`s revenue because the high searching."
   ]
  },
  {
   "cell_type": "code",
   "execution_count": 23,
   "metadata": {},
   "outputs": [
    {
     "data": {
      "text/html": [
       "<div>\n",
       "<style scoped>\n",
       "    .dataframe tbody tr th:only-of-type {\n",
       "        vertical-align: middle;\n",
       "    }\n",
       "\n",
       "    .dataframe tbody tr th {\n",
       "        vertical-align: top;\n",
       "    }\n",
       "\n",
       "    .dataframe thead th {\n",
       "        text-align: right;\n",
       "    }\n",
       "</style>\n",
       "<table border=\"1\" class=\"dataframe\">\n",
       "  <thead>\n",
       "    <tr style=\"text-align: right;\">\n",
       "      <th></th>\n",
       "      <th>delay_at_checkout_in_minutes</th>\n",
       "      <th>time_delta_with_previous_rental_in_minutes</th>\n",
       "    </tr>\n",
       "  </thead>\n",
       "  <tbody>\n",
       "    <tr>\n",
       "      <th>count</th>\n",
       "      <td>6819.000000</td>\n",
       "      <td>6819.000000</td>\n",
       "    </tr>\n",
       "    <tr>\n",
       "      <th>mean</th>\n",
       "      <td>-132.614460</td>\n",
       "      <td>30.607127</td>\n",
       "    </tr>\n",
       "    <tr>\n",
       "      <th>std</th>\n",
       "      <td>408.175795</td>\n",
       "      <td>123.284406</td>\n",
       "    </tr>\n",
       "    <tr>\n",
       "      <th>min</th>\n",
       "      <td>-22433.000000</td>\n",
       "      <td>0.000000</td>\n",
       "    </tr>\n",
       "    <tr>\n",
       "      <th>25%</th>\n",
       "      <td>-120.000000</td>\n",
       "      <td>0.000000</td>\n",
       "    </tr>\n",
       "    <tr>\n",
       "      <th>50%</th>\n",
       "      <td>-52.000000</td>\n",
       "      <td>0.000000</td>\n",
       "    </tr>\n",
       "    <tr>\n",
       "      <th>75%</th>\n",
       "      <td>-19.000000</td>\n",
       "      <td>0.000000</td>\n",
       "    </tr>\n",
       "    <tr>\n",
       "      <th>max</th>\n",
       "      <td>-1.000000</td>\n",
       "      <td>720.000000</td>\n",
       "    </tr>\n",
       "  </tbody>\n",
       "</table>\n",
       "</div>"
      ],
      "text/plain": [
       "       delay_at_checkout_in_minutes  \\\n",
       "count                   6819.000000   \n",
       "mean                    -132.614460   \n",
       "std                      408.175795   \n",
       "min                   -22433.000000   \n",
       "25%                     -120.000000   \n",
       "50%                      -52.000000   \n",
       "75%                      -19.000000   \n",
       "max                       -1.000000   \n",
       "\n",
       "       time_delta_with_previous_rental_in_minutes  \n",
       "count                                 6819.000000  \n",
       "mean                                    30.607127  \n",
       "std                                    123.284406  \n",
       "min                                      0.000000  \n",
       "25%                                      0.000000  \n",
       "50%                                      0.000000  \n",
       "75%                                      0.000000  \n",
       "max                                    720.000000  "
      ]
     },
     "execution_count": 23,
     "metadata": {},
     "output_type": "execute_result"
    }
   ],
   "source": [
    "# Apply statistical analysis for early checkouts \n",
    "\n",
    "early_checkout = ended[ended['delay_at_checkout_in_minutes']<0]\n",
    "\n",
    "early_checkout[['delay_at_checkout_in_minutes','time_delta_with_previous_rental_in_minutes']].describe()"
   ]
  },
  {
   "cell_type": "markdown",
   "metadata": {},
   "source": [
    "Early check-outs happen in average `132 minutes` in advance, and the next rental average in `30 minutes` after. We raised hypotheses that those customers face car issues on renting because we have the longest next rental average in analysis."
   ]
  },
  {
   "cell_type": "code",
   "execution_count": 24,
   "metadata": {},
   "outputs": [
    {
     "name": "stdout",
     "output_type": "stream",
     "text": [
      "Number of Late Checkouts:  9404\n",
      "Number of Early Checkouts:  6819\n",
      "Number of Exact Checkouts:  1822\n"
     ]
    },
    {
     "data": {
      "image/png": "[encoded data removed]",
      "text/plain": [
       "<Figure size 432x432 with 1 Axes>"
      ]
     },
     "metadata": {},
     "output_type": "display_data"
    }
   ],
   "source": [
    "print(\"Number of Late Checkouts: \", len(late_checkout))\n",
    "print(\"Number of Early Checkouts: \", len(early_checkout))\n",
    "print(\"Number of Exact Checkouts: \", len(exact_checkout))\n",
    "\n",
    "label = 'Late Checkout','Early Checkout', 'Exact Checkout'\n",
    "data = [len(late_checkout),len(early_checkout), len(exact_checkout)]\n",
    "col =('m','violet', 'mediumpurple')\n",
    "fig, ax = plt.subplots(figsize=(6,6))\n",
    "ax.pie(data , labels=label, autopct='%1.f%%', startangle=90,colors=col)\n",
    "ax.axis('equal')\n",
    "\n",
    "plt.title('Total Transactions')\n",
    "plt.show()\n"
   ]
  },
  {
   "cell_type": "markdown",
   "metadata": {},
   "source": [
    "Late check-outs take `52%` of all available cars, `more than the half`. That may risk next rentals to happen and requires a watch-out.\n",
    "\n",
    "We will analyse Delayed Checkouts within 200 minutes range to find which check-in type they use, to raise hypotheses."
   ]
  },
  {
   "cell_type": "code",
   "execution_count": 25,
   "metadata": {},
   "outputs": [],
   "source": [
    "# Filtering Delayed Check-outs.\n",
    "\n",
    "below_200_minutes = ended[ended['delay_at_checkout_in_minutes']<200]"
   ]
  },
  {
   "cell_type": "code",
   "execution_count": 26,
   "metadata": {},
   "outputs": [
    {
     "data": {
      "image/png": "[encoded data removed]",
      "text/plain": [
       "<Figure size 432x432 with 1 Axes>"
      ]
     },
     "metadata": {},
     "output_type": "display_data"
    },
    {
     "data": {
      "text/plain": [
       "mobile     13069\n",
       "connect     3389\n",
       "Name: checkin_type, dtype: int64"
      ]
     },
     "execution_count": 26,
     "metadata": {},
     "output_type": "execute_result"
    }
   ],
   "source": [
    "# Create a Pie chart of checkin types from filtered delayed check-outs\n",
    "\n",
    "label = 'Mobile', 'Connect'\n",
    "data = [below_200_minutes[(below_200_minutes.checkin_type=='mobile')]['checkin_type'].count(),below_200_minutes[(below_200_minutes.checkin_type=='connect')]['checkin_type'].count() ]\n",
    "col =('violet', 'mediumpurple')\n",
    "fig, ax = plt.subplots(figsize=(6,6))\n",
    "ax.pie(data , labels=label, autopct='%1.f%%', startangle=90,colors=col)\n",
    "ax.axis('equal')\n",
    "\n",
    "plt.title('Check-outs within 200 Minutes Late')\n",
    "plt.show()\n",
    "\n",
    "below_200_minutes.checkin_type.value_counts()"
   ]
  },
  {
   "cell_type": "markdown",
   "metadata": {},
   "source": [
    "**79%** comes from Mobile users and **21%** from Connect, initially, it seems the scope should be applied only to Mobile users but, considering Connect as not so popular, 21% is a significant amount corresponding to `4187` late check-outs."
   ]
  },
  {
   "cell_type": "markdown",
   "metadata": {},
   "source": [
    "# Next Rental Overlaping Analysis\n",
    "\n",
    "The `time_delta_with_previous_rental_in_minutes` column holds the difference in minutes between last rental check-out and the next check-in, when lower than 12 hours, and Null if higher.\n",
    "\n",
    "It can be problematic if the check-out delay overlaps the next check-in, for this reason we created a df dataframe to analyse this issue, there will have an extra `time_between_next_checkin` column, which holds the minutes between last and next rental, all other fields will be filled with Null values."
   ]
  },
  {
   "cell_type": "code",
   "execution_count": 27,
   "metadata": {},
   "outputs": [
    {
     "data": {
      "text/html": [
       "<div>\n",
       "<style scoped>\n",
       "    .dataframe tbody tr th:only-of-type {\n",
       "        vertical-align: middle;\n",
       "    }\n",
       "\n",
       "    .dataframe tbody tr th {\n",
       "        vertical-align: top;\n",
       "    }\n",
       "\n",
       "    .dataframe thead th {\n",
       "        text-align: right;\n",
       "    }\n",
       "</style>\n",
       "<table border=\"1\" class=\"dataframe\">\n",
       "  <thead>\n",
       "    <tr style=\"text-align: right;\">\n",
       "      <th></th>\n",
       "      <th>rental_id</th>\n",
       "      <th>car_id</th>\n",
       "      <th>checkin_type</th>\n",
       "      <th>state</th>\n",
       "      <th>delay_at_checkout_in_minutes</th>\n",
       "      <th>previous_ended_rental_id</th>\n",
       "      <th>time_delta_with_previous_rental_in_minutes</th>\n",
       "      <th>time_between_next_checkin</th>\n",
       "    </tr>\n",
       "  </thead>\n",
       "  <tbody>\n",
       "    <tr>\n",
       "      <th>0</th>\n",
       "      <td>563782</td>\n",
       "      <td>370585</td>\n",
       "      <td>connect</td>\n",
       "      <td>ended</td>\n",
       "      <td>136.0</td>\n",
       "      <td>NaN</td>\n",
       "      <td>NaN</td>\n",
       "      <td>NaN</td>\n",
       "    </tr>\n",
       "    <tr>\n",
       "      <th>1</th>\n",
       "      <td>NaN</td>\n",
       "      <td>NaN</td>\n",
       "      <td>NaN</td>\n",
       "      <td>NaN</td>\n",
       "      <td>NaN</td>\n",
       "      <td>NaN</td>\n",
       "      <td>NaN</td>\n",
       "      <td>570.0</td>\n",
       "    </tr>\n",
       "    <tr>\n",
       "      <th>2</th>\n",
       "      <td>545639</td>\n",
       "      <td>312389</td>\n",
       "      <td>mobile</td>\n",
       "      <td>ended</td>\n",
       "      <td>140.0</td>\n",
       "      <td>NaN</td>\n",
       "      <td>NaN</td>\n",
       "      <td>NaN</td>\n",
       "    </tr>\n",
       "    <tr>\n",
       "      <th>3</th>\n",
       "      <td>NaN</td>\n",
       "      <td>NaN</td>\n",
       "      <td>NaN</td>\n",
       "      <td>NaN</td>\n",
       "      <td>NaN</td>\n",
       "      <td>NaN</td>\n",
       "      <td>NaN</td>\n",
       "      <td>420.0</td>\n",
       "    </tr>\n",
       "    <tr>\n",
       "      <th>4</th>\n",
       "      <td>537298</td>\n",
       "      <td>392479</td>\n",
       "      <td>mobile</td>\n",
       "      <td>ended</td>\n",
       "      <td>NaN</td>\n",
       "      <td>NaN</td>\n",
       "      <td>NaN</td>\n",
       "      <td>NaN</td>\n",
       "    </tr>\n",
       "    <tr>\n",
       "      <th>...</th>\n",
       "      <td>...</td>\n",
       "      <td>...</td>\n",
       "      <td>...</td>\n",
       "      <td>...</td>\n",
       "      <td>...</td>\n",
       "      <td>...</td>\n",
       "      <td>...</td>\n",
       "      <td>...</td>\n",
       "    </tr>\n",
       "    <tr>\n",
       "      <th>3677</th>\n",
       "      <td>NaN</td>\n",
       "      <td>NaN</td>\n",
       "      <td>NaN</td>\n",
       "      <td>NaN</td>\n",
       "      <td>NaN</td>\n",
       "      <td>NaN</td>\n",
       "      <td>NaN</td>\n",
       "      <td>240.0</td>\n",
       "    </tr>\n",
       "    <tr>\n",
       "      <th>3678</th>\n",
       "      <td>545045</td>\n",
       "      <td>377312</td>\n",
       "      <td>mobile</td>\n",
       "      <td>ended</td>\n",
       "      <td>22.0</td>\n",
       "      <td>563963.0</td>\n",
       "      <td>630.0</td>\n",
       "      <td>NaN</td>\n",
       "    </tr>\n",
       "    <tr>\n",
       "      <th>3679</th>\n",
       "      <td>NaN</td>\n",
       "      <td>NaN</td>\n",
       "      <td>NaN</td>\n",
       "      <td>NaN</td>\n",
       "      <td>NaN</td>\n",
       "      <td>NaN</td>\n",
       "      <td>NaN</td>\n",
       "      <td>90.0</td>\n",
       "    </tr>\n",
       "    <tr>\n",
       "      <th>3680</th>\n",
       "      <td>573429</td>\n",
       "      <td>380069</td>\n",
       "      <td>mobile</td>\n",
       "      <td>ended</td>\n",
       "      <td>NaN</td>\n",
       "      <td>562010.0</td>\n",
       "      <td>30.0</td>\n",
       "      <td>NaN</td>\n",
       "    </tr>\n",
       "    <tr>\n",
       "      <th>3681</th>\n",
       "      <td>NaN</td>\n",
       "      <td>NaN</td>\n",
       "      <td>NaN</td>\n",
       "      <td>NaN</td>\n",
       "      <td>NaN</td>\n",
       "      <td>NaN</td>\n",
       "      <td>NaN</td>\n",
       "      <td>300.0</td>\n",
       "    </tr>\n",
       "  </tbody>\n",
       "</table>\n",
       "<p>3682 rows × 8 columns</p>\n",
       "</div>"
      ],
      "text/plain": [
       "     rental_id  car_id checkin_type  state  delay_at_checkout_in_minutes  \\\n",
       "0       563782  370585      connect  ended                         136.0   \n",
       "1          NaN     NaN          NaN    NaN                           NaN   \n",
       "2       545639  312389       mobile  ended                         140.0   \n",
       "3          NaN     NaN          NaN    NaN                           NaN   \n",
       "4       537298  392479       mobile  ended                           NaN   \n",
       "...        ...     ...          ...    ...                           ...   \n",
       "3677       NaN     NaN          NaN    NaN                           NaN   \n",
       "3678    545045  377312       mobile  ended                          22.0   \n",
       "3679       NaN     NaN          NaN    NaN                           NaN   \n",
       "3680    573429  380069       mobile  ended                           NaN   \n",
       "3681       NaN     NaN          NaN    NaN                           NaN   \n",
       "\n",
       "      previous_ended_rental_id  time_delta_with_previous_rental_in_minutes  \\\n",
       "0                          NaN                                         NaN   \n",
       "1                          NaN                                         NaN   \n",
       "2                          NaN                                         NaN   \n",
       "3                          NaN                                         NaN   \n",
       "4                          NaN                                         NaN   \n",
       "...                        ...                                         ...   \n",
       "3677                       NaN                                         NaN   \n",
       "3678                  563963.0                                       630.0   \n",
       "3679                       NaN                                         NaN   \n",
       "3680                  562010.0                                        30.0   \n",
       "3681                       NaN                                         NaN   \n",
       "\n",
       "     time_between_next_checkin  \n",
       "0                          NaN  \n",
       "1                        570.0  \n",
       "2                          NaN  \n",
       "3                        420.0  \n",
       "4                          NaN  \n",
       "...                        ...  \n",
       "3677                     240.0  \n",
       "3678                       NaN  \n",
       "3679                      90.0  \n",
       "3680                       NaN  \n",
       "3681                     300.0  \n",
       "\n",
       "[3682 rows x 8 columns]"
      ]
     },
     "execution_count": 27,
     "metadata": {},
     "output_type": "execute_result"
    }
   ],
   "source": [
    "df = pd.DataFrame(columns = ['rental_id','car_id','checkin_type','state','delay_at_checkout_in_minutes','previous_ended_rental_id','time_delta_with_previous_rental_in_minutes', 'time_between_next_checkin'])\n",
    "\n",
    "for value in test.previous_ended_rental_id[:(len(test))]:\n",
    "    if np.isnan(value) == False:\n",
    "        df = df.append(test.loc[test.rental_id == value]).append({'time_between_next_checkin': test.time_delta_with_previous_rental_in_minutes[test.previous_ended_rental_id.tolist().index(value)]}, ignore_index=True)\n",
    "        \n",
    "df.sort_index(inplace=True)\n",
    "\n",
    "df\n"
   ]
  },
  {
   "cell_type": "code",
   "execution_count": 28,
   "metadata": {},
   "outputs": [],
   "source": [
    "# Remove those extras Null Values and Chunk them on the same row.\n",
    "\n",
    "for i in range(len(df.time_between_next_checkin)):\n",
    "    value = df.time_between_next_checkin[i]\n",
    "    if np.isnan(value) == True:\n",
    "        df.time_between_next_checkin[i] = df.time_between_next_checkin[i+1]\n",
    "\n",
    "\n",
    "\n",
    "df.drop(range(1, len(df), 2), inplace=True)"
   ]
  },
  {
   "cell_type": "code",
   "execution_count": 29,
   "metadata": {},
   "outputs": [
    {
     "data": {
      "text/html": [
       "<div>\n",
       "<style scoped>\n",
       "    .dataframe tbody tr th:only-of-type {\n",
       "        vertical-align: middle;\n",
       "    }\n",
       "\n",
       "    .dataframe tbody tr th {\n",
       "        vertical-align: top;\n",
       "    }\n",
       "\n",
       "    .dataframe thead th {\n",
       "        text-align: right;\n",
       "    }\n",
       "</style>\n",
       "<table border=\"1\" class=\"dataframe\">\n",
       "  <thead>\n",
       "    <tr style=\"text-align: right;\">\n",
       "      <th></th>\n",
       "      <th>rental_id</th>\n",
       "      <th>car_id</th>\n",
       "      <th>checkin_type</th>\n",
       "      <th>state</th>\n",
       "      <th>delay_at_checkout_in_minutes</th>\n",
       "      <th>previous_ended_rental_id</th>\n",
       "      <th>time_delta_with_previous_rental_in_minutes</th>\n",
       "      <th>time_between_next_checkin</th>\n",
       "    </tr>\n",
       "  </thead>\n",
       "  <tbody>\n",
       "    <tr>\n",
       "      <th>0</th>\n",
       "      <td>563782</td>\n",
       "      <td>370585</td>\n",
       "      <td>connect</td>\n",
       "      <td>ended</td>\n",
       "      <td>136.0</td>\n",
       "      <td>NaN</td>\n",
       "      <td>NaN</td>\n",
       "      <td>570.0</td>\n",
       "    </tr>\n",
       "    <tr>\n",
       "      <th>1</th>\n",
       "      <td>545639</td>\n",
       "      <td>312389</td>\n",
       "      <td>mobile</td>\n",
       "      <td>ended</td>\n",
       "      <td>140.0</td>\n",
       "      <td>NaN</td>\n",
       "      <td>NaN</td>\n",
       "      <td>420.0</td>\n",
       "    </tr>\n",
       "    <tr>\n",
       "      <th>2</th>\n",
       "      <td>537298</td>\n",
       "      <td>392479</td>\n",
       "      <td>mobile</td>\n",
       "      <td>ended</td>\n",
       "      <td>NaN</td>\n",
       "      <td>NaN</td>\n",
       "      <td>NaN</td>\n",
       "      <td>0.0</td>\n",
       "    </tr>\n",
       "    <tr>\n",
       "      <th>3</th>\n",
       "      <td>510607</td>\n",
       "      <td>349751</td>\n",
       "      <td>mobile</td>\n",
       "      <td>ended</td>\n",
       "      <td>-113.0</td>\n",
       "      <td>NaN</td>\n",
       "      <td>NaN</td>\n",
       "      <td>60.0</td>\n",
       "    </tr>\n",
       "    <tr>\n",
       "      <th>4</th>\n",
       "      <td>557404</td>\n",
       "      <td>181625</td>\n",
       "      <td>connect</td>\n",
       "      <td>ended</td>\n",
       "      <td>-352.0</td>\n",
       "      <td>554077.0</td>\n",
       "      <td>120.0</td>\n",
       "      <td>330.0</td>\n",
       "    </tr>\n",
       "  </tbody>\n",
       "</table>\n",
       "</div>"
      ],
      "text/plain": [
       "  rental_id  car_id checkin_type  state  delay_at_checkout_in_minutes  \\\n",
       "0    563782  370585      connect  ended                         136.0   \n",
       "1    545639  312389       mobile  ended                         140.0   \n",
       "2    537298  392479       mobile  ended                           NaN   \n",
       "3    510607  349751       mobile  ended                        -113.0   \n",
       "4    557404  181625      connect  ended                        -352.0   \n",
       "\n",
       "   previous_ended_rental_id  time_delta_with_previous_rental_in_minutes  \\\n",
       "0                       NaN                                         NaN   \n",
       "1                       NaN                                         NaN   \n",
       "2                       NaN                                         NaN   \n",
       "3                       NaN                                         NaN   \n",
       "4                  554077.0                                       120.0   \n",
       "\n",
       "  time_between_next_checkin  \n",
       "0                     570.0  \n",
       "1                     420.0  \n",
       "2                       0.0  \n",
       "3                      60.0  \n",
       "4                     330.0  "
      ]
     },
     "execution_count": 29,
     "metadata": {},
     "output_type": "execute_result"
    }
   ],
   "source": [
    "# Correct the dataframe Index\n",
    "\n",
    "df = df.set_index([pd.Index(range(len(df)))])\n",
    "df.head()"
   ]
  },
  {
   "cell_type": "code",
   "execution_count": 30,
   "metadata": {},
   "outputs": [],
   "source": [
    "# Replace the delay_at_checkout_in_minutes null values with 0\n",
    "\n",
    "df['delay_at_checkout_in_minutes'] = df['delay_at_checkout_in_minutes'].fillna(0)"
   ]
  },
  {
   "cell_type": "markdown",
   "metadata": {},
   "source": [
    "### <a name=\"p5-1\">How many rentals would be affected by the feature depending on the threshold and scope chosen?</a>\n",
    "\n",
    "We can affirm that Affected rentals would be the ones that have a delay with previous rentals lower than the threshold set."
   ]
  },
  {
   "cell_type": "code",
   "execution_count": 31,
   "metadata": {},
   "outputs": [
    {
     "name": "stdout",
     "output_type": "stream",
     "text": [
      "The Connect length is:  3509\n",
      "The Mobile length is:  14536\n"
     ]
    }
   ],
   "source": [
    "# Extract the Connect and Mobile checkin_type length\n",
    "\n",
    "data = test[test['state'] == 'ended']\n",
    "\n",
    "total_connect = len(data[data['checkin_type'] == 'connect'])\n",
    "total_mobile = len(data[data['checkin_type'] == 'mobile'])\n",
    "\n",
    "print(\"The Connect length is: \", total_connect)\n",
    "print(\"The Mobile length is: \", total_mobile)"
   ]
  },
  {
   "cell_type": "code",
   "execution_count": 32,
   "metadata": {},
   "outputs": [],
   "source": [
    "# Remove null values from 'time_delta_with_previous_rental_in_minutes' and filter values below the threshold\n",
    "# Return the affected rentals over total values percentage\n",
    "\n",
    "def affected_rentals(threshold):\n",
    "    affected = data[['time_delta_with_previous_rental_in_minutes']].dropna()\n",
    "    affected = affected[affected['time_delta_with_previous_rental_in_minutes'] < threshold]\n",
    "    return len(affected)/len(data)\n",
    "\n",
    "# Filter Connect users values, Remove Null values from 'time_delta_with_previous_rental_in_minutes', and filter values below the threshold\n",
    "# Return the affected rentals over the total connect values percentage\n",
    "\n",
    "def connect_checkout_time(threshold):\n",
    "    affected_rental = data[data['checkin_type'] == 'connect']\n",
    "    affected_rental = affected_rental[['time_delta_with_previous_rental_in_minutes']].dropna()\n",
    "    affected_rental = affected_rental[affected_rental['time_delta_with_previous_rental_in_minutes'] < threshold]\n",
    "    return len(affected_rental)/total_connect\n",
    "\n",
    "# Filter Mobile users values, Remove Null values from 'time_delta_with_previous_rental_in_minutes', and filter values below the threshold\n",
    "# Return the affected rentals over the total mobile values percentage\n",
    "\n",
    "def mobile_checkout_time(threshold):\n",
    "    affected_rental = data[data['checkin_type'] == 'mobile'] \n",
    "    affected_rental = affected_rental[['time_delta_with_previous_rental_in_minutes']].dropna()\n",
    "    affected_rental = affected_rental[affected_rental['time_delta_with_previous_rental_in_minutes'] < threshold]\n",
    "    return len(affected_rental)/total_mobile"
   ]
  },
  {
   "cell_type": "code",
   "execution_count": 33,
   "metadata": {},
   "outputs": [],
   "source": [
    "# Create a x_list from 0 till 799 minutes\n",
    "x_list = np.arange(0,800,1)\n",
    "\n",
    "# Create an empty list\n",
    "y_list_all = []\n",
    "\n",
    "# For each value from the \"x_list\" passes into 'affected_rentals' functions and append the result to \"y_list_all\"\n",
    "for x in x_list:\n",
    "    y_list_all.append(affected_rentals(x))\n",
    "\n",
    "# Create an empty List\n",
    "y_list_connect = []\n",
    "\n",
    "# For each value from the \"x_list\" passes into 'connect_checkout_time' functions and append the result to \"y_list_connect\"\n",
    "for x in x_list:\n",
    "    y_list_connect.append(connect_checkout_time(x))\n",
    "\n",
    "# Create an empty list\n",
    "y_list_mobile = []\n",
    "\n",
    "# For each value from the \"x_list\" passes into 'mobile_checkout_time' functions and append the result to \"y_list_mobile\"\n",
    "for x in x_list:\n",
    "    y_list_mobile.append(mobile_checkout_time(x))\n"
   ]
  },
  {
   "cell_type": "code",
   "execution_count": 34,
   "metadata": {},
   "outputs": [
    {
     "data": {
      "text/plain": [
       "(0.0, 0.3)"
      ]
     },
     "execution_count": 34,
     "metadata": {},
     "output_type": "execute_result"
    },
    {
     "data": {
      "image/png": "[encoded data removed]",
      "text/plain": [
       "<Figure size 1440x720 with 1 Axes>"
      ]
     },
     "metadata": {
      "needs_background": "light"
     },
     "output_type": "display_data"
    }
   ],
   "source": [
    "# Plot a Line chart of Threshold analysis\n",
    "\n",
    "ax = fig.add_subplot(1, 1, 1)\n",
    "fig, ax = plt.subplots(figsize=(20, 10))\n",
    "\n",
    "ax.plot(x_list, y_list_connect)\n",
    "ax.plot(x_list, y_list_mobile)\n",
    "ax.plot(x_list, y_list_all)\n",
    "\n",
    "ax.set_title(\"Affected Reservations(%) over Threshold\")\n",
    "ax.set_xlabel('Threshold (min)')\n",
    "ax.set_ylabel('% of affected reservations')\n",
    "labels = [ 'connect', 'mobile', 'all rentals']\n",
    "ax.legend(labels)\n",
    "plt.ylim(0, 0.3)\n",
    "\n"
   ]
  },
  {
   "cell_type": "markdown",
   "metadata": {},
   "source": [
    "**Connect users** are the most affected with `~18%` of all dataset; the reason could be the fact that they do not need to check the car availability on the app or meet the owner`s to sign a contract to get the keys.\n",
    "\n",
    "It **does not affect much** on `Mobile users` because we strongly believe they have to check in advance. "
   ]
  },
  {
   "cell_type": "markdown",
   "metadata": {},
   "source": [
    "### <a name=\"p5-2\">What is relation between delayed check-outs and the next rental remaining time?</a>\n",
    "\n",
    "Based on the previous analysis, we raised this question because this time gap has an impact on future rentings."
   ]
  },
  {
   "cell_type": "code",
   "execution_count": 35,
   "metadata": {},
   "outputs": [
    {
     "data": {
      "text/html": [
       "<div>\n",
       "<style scoped>\n",
       "    .dataframe tbody tr th:only-of-type {\n",
       "        vertical-align: middle;\n",
       "    }\n",
       "\n",
       "    .dataframe tbody tr th {\n",
       "        vertical-align: top;\n",
       "    }\n",
       "\n",
       "    .dataframe thead th {\n",
       "        text-align: right;\n",
       "    }\n",
       "</style>\n",
       "<table border=\"1\" class=\"dataframe\">\n",
       "  <thead>\n",
       "    <tr style=\"text-align: right;\">\n",
       "      <th></th>\n",
       "      <th>rental_id</th>\n",
       "      <th>car_id</th>\n",
       "      <th>checkin_type</th>\n",
       "      <th>state</th>\n",
       "      <th>delay_at_checkout_in_minutes</th>\n",
       "      <th>previous_ended_rental_id</th>\n",
       "      <th>time_delta_with_previous_rental_in_minutes</th>\n",
       "      <th>time_between_next_checkin</th>\n",
       "      <th>checkout_checkin_difference</th>\n",
       "    </tr>\n",
       "  </thead>\n",
       "  <tbody>\n",
       "    <tr>\n",
       "      <th>0</th>\n",
       "      <td>563782</td>\n",
       "      <td>370585</td>\n",
       "      <td>connect</td>\n",
       "      <td>ended</td>\n",
       "      <td>136.0</td>\n",
       "      <td>NaN</td>\n",
       "      <td>NaN</td>\n",
       "      <td>570.0</td>\n",
       "      <td>434.0</td>\n",
       "    </tr>\n",
       "    <tr>\n",
       "      <th>1</th>\n",
       "      <td>545639</td>\n",
       "      <td>312389</td>\n",
       "      <td>mobile</td>\n",
       "      <td>ended</td>\n",
       "      <td>140.0</td>\n",
       "      <td>NaN</td>\n",
       "      <td>NaN</td>\n",
       "      <td>420.0</td>\n",
       "      <td>280.0</td>\n",
       "    </tr>\n",
       "    <tr>\n",
       "      <th>2</th>\n",
       "      <td>537298</td>\n",
       "      <td>392479</td>\n",
       "      <td>mobile</td>\n",
       "      <td>ended</td>\n",
       "      <td>0.0</td>\n",
       "      <td>NaN</td>\n",
       "      <td>NaN</td>\n",
       "      <td>0.0</td>\n",
       "      <td>0.0</td>\n",
       "    </tr>\n",
       "    <tr>\n",
       "      <th>3</th>\n",
       "      <td>510607</td>\n",
       "      <td>349751</td>\n",
       "      <td>mobile</td>\n",
       "      <td>ended</td>\n",
       "      <td>-113.0</td>\n",
       "      <td>NaN</td>\n",
       "      <td>NaN</td>\n",
       "      <td>60.0</td>\n",
       "      <td>173.0</td>\n",
       "    </tr>\n",
       "    <tr>\n",
       "      <th>4</th>\n",
       "      <td>557404</td>\n",
       "      <td>181625</td>\n",
       "      <td>connect</td>\n",
       "      <td>ended</td>\n",
       "      <td>-352.0</td>\n",
       "      <td>554077.0</td>\n",
       "      <td>120.0</td>\n",
       "      <td>330.0</td>\n",
       "      <td>682.0</td>\n",
       "    </tr>\n",
       "  </tbody>\n",
       "</table>\n",
       "</div>"
      ],
      "text/plain": [
       "  rental_id  car_id checkin_type  state  delay_at_checkout_in_minutes  \\\n",
       "0    563782  370585      connect  ended                         136.0   \n",
       "1    545639  312389       mobile  ended                         140.0   \n",
       "2    537298  392479       mobile  ended                           0.0   \n",
       "3    510607  349751       mobile  ended                        -113.0   \n",
       "4    557404  181625      connect  ended                        -352.0   \n",
       "\n",
       "   previous_ended_rental_id  time_delta_with_previous_rental_in_minutes  \\\n",
       "0                       NaN                                         NaN   \n",
       "1                       NaN                                         NaN   \n",
       "2                       NaN                                         NaN   \n",
       "3                       NaN                                         NaN   \n",
       "4                  554077.0                                       120.0   \n",
       "\n",
       "  time_between_next_checkin checkout_checkin_difference  \n",
       "0                     570.0                       434.0  \n",
       "1                     420.0                       280.0  \n",
       "2                       0.0                         0.0  \n",
       "3                      60.0                       173.0  \n",
       "4                     330.0                       682.0  "
      ]
     },
     "execution_count": 35,
     "metadata": {},
     "output_type": "execute_result"
    }
   ],
   "source": [
    "# Create a 'checkout_checkin_difference' columns from the difference between 'time_between_next_checkin' and 'delay_at_checkout_in_minutes'\n",
    "\n",
    "df['checkout_checkin_difference'] = df['time_between_next_checkin'] - df['delay_at_checkout_in_minutes']\n",
    "df.head()"
   ]
  },
  {
   "cell_type": "markdown",
   "metadata": {},
   "source": [
    "# Problematic Cases Analysis\n",
    "\n",
    "It seems strange how often customers check out in advance; there is much to explore in understanding the reasons why, it would help them to rent more, and have a great user experience from us. Because we believe they are clearly unsatisfied."
   ]
  },
  {
   "cell_type": "code",
   "execution_count": 36,
   "metadata": {},
   "outputs": [
    {
     "data": {
      "text/html": [
       "<div>\n",
       "<style scoped>\n",
       "    .dataframe tbody tr th:only-of-type {\n",
       "        vertical-align: middle;\n",
       "    }\n",
       "\n",
       "    .dataframe tbody tr th {\n",
       "        vertical-align: top;\n",
       "    }\n",
       "\n",
       "    .dataframe thead th {\n",
       "        text-align: right;\n",
       "    }\n",
       "</style>\n",
       "<table border=\"1\" class=\"dataframe\">\n",
       "  <thead>\n",
       "    <tr style=\"text-align: right;\">\n",
       "      <th></th>\n",
       "      <th>rental_id</th>\n",
       "      <th>car_id</th>\n",
       "      <th>checkin_type</th>\n",
       "      <th>state</th>\n",
       "      <th>delay_at_checkout_in_minutes</th>\n",
       "      <th>previous_ended_rental_id</th>\n",
       "      <th>time_delta_with_previous_rental_in_minutes</th>\n",
       "      <th>time_between_next_checkin</th>\n",
       "      <th>checkout_checkin_difference</th>\n",
       "    </tr>\n",
       "  </thead>\n",
       "  <tbody>\n",
       "    <tr>\n",
       "      <th>11</th>\n",
       "      <td>539751</td>\n",
       "      <td>374684</td>\n",
       "      <td>mobile</td>\n",
       "      <td>ended</td>\n",
       "      <td>3.0</td>\n",
       "      <td>537514.0</td>\n",
       "      <td>660.0</td>\n",
       "      <td>0.0</td>\n",
       "      <td>-3.0</td>\n",
       "    </tr>\n",
       "    <tr>\n",
       "      <th>12</th>\n",
       "      <td>540607</td>\n",
       "      <td>382364</td>\n",
       "      <td>mobile</td>\n",
       "      <td>ended</td>\n",
       "      <td>1.0</td>\n",
       "      <td>NaN</td>\n",
       "      <td>NaN</td>\n",
       "      <td>0.0</td>\n",
       "      <td>-1.0</td>\n",
       "    </tr>\n",
       "    <tr>\n",
       "      <th>37</th>\n",
       "      <td>540868</td>\n",
       "      <td>408776</td>\n",
       "      <td>mobile</td>\n",
       "      <td>ended</td>\n",
       "      <td>26.0</td>\n",
       "      <td>NaN</td>\n",
       "      <td>NaN</td>\n",
       "      <td>0.0</td>\n",
       "      <td>-26.0</td>\n",
       "    </tr>\n",
       "    <tr>\n",
       "      <th>64</th>\n",
       "      <td>572909</td>\n",
       "      <td>301512</td>\n",
       "      <td>mobile</td>\n",
       "      <td>ended</td>\n",
       "      <td>13.0</td>\n",
       "      <td>NaN</td>\n",
       "      <td>NaN</td>\n",
       "      <td>0.0</td>\n",
       "      <td>-13.0</td>\n",
       "    </tr>\n",
       "    <tr>\n",
       "      <th>68</th>\n",
       "      <td>533413</td>\n",
       "      <td>353425</td>\n",
       "      <td>connect</td>\n",
       "      <td>ended</td>\n",
       "      <td>4.0</td>\n",
       "      <td>NaN</td>\n",
       "      <td>NaN</td>\n",
       "      <td>0.0</td>\n",
       "      <td>-4.0</td>\n",
       "    </tr>\n",
       "    <tr>\n",
       "      <th>69</th>\n",
       "      <td>541519</td>\n",
       "      <td>408821</td>\n",
       "      <td>mobile</td>\n",
       "      <td>ended</td>\n",
       "      <td>95.0</td>\n",
       "      <td>NaN</td>\n",
       "      <td>NaN</td>\n",
       "      <td>90.0</td>\n",
       "      <td>-5.0</td>\n",
       "    </tr>\n",
       "    <tr>\n",
       "      <th>88</th>\n",
       "      <td>536978</td>\n",
       "      <td>378931</td>\n",
       "      <td>mobile</td>\n",
       "      <td>ended</td>\n",
       "      <td>271.0</td>\n",
       "      <td>NaN</td>\n",
       "      <td>NaN</td>\n",
       "      <td>60.0</td>\n",
       "      <td>-211.0</td>\n",
       "    </tr>\n",
       "    <tr>\n",
       "      <th>93</th>\n",
       "      <td>514474</td>\n",
       "      <td>376574</td>\n",
       "      <td>mobile</td>\n",
       "      <td>ended</td>\n",
       "      <td>81.0</td>\n",
       "      <td>NaN</td>\n",
       "      <td>NaN</td>\n",
       "      <td>0.0</td>\n",
       "      <td>-81.0</td>\n",
       "    </tr>\n",
       "    <tr>\n",
       "      <th>122</th>\n",
       "      <td>548646</td>\n",
       "      <td>282893</td>\n",
       "      <td>mobile</td>\n",
       "      <td>ended</td>\n",
       "      <td>201.0</td>\n",
       "      <td>NaN</td>\n",
       "      <td>NaN</td>\n",
       "      <td>30.0</td>\n",
       "      <td>-171.0</td>\n",
       "    </tr>\n",
       "    <tr>\n",
       "      <th>128</th>\n",
       "      <td>548169</td>\n",
       "      <td>375834</td>\n",
       "      <td>mobile</td>\n",
       "      <td>ended</td>\n",
       "      <td>5.0</td>\n",
       "      <td>NaN</td>\n",
       "      <td>NaN</td>\n",
       "      <td>0.0</td>\n",
       "      <td>-5.0</td>\n",
       "    </tr>\n",
       "    <tr>\n",
       "      <th>130</th>\n",
       "      <td>550060</td>\n",
       "      <td>396250</td>\n",
       "      <td>mobile</td>\n",
       "      <td>ended</td>\n",
       "      <td>123.0</td>\n",
       "      <td>NaN</td>\n",
       "      <td>NaN</td>\n",
       "      <td>120.0</td>\n",
       "      <td>-3.0</td>\n",
       "    </tr>\n",
       "    <tr>\n",
       "      <th>144</th>\n",
       "      <td>550671</td>\n",
       "      <td>404424</td>\n",
       "      <td>mobile</td>\n",
       "      <td>ended</td>\n",
       "      <td>105.0</td>\n",
       "      <td>NaN</td>\n",
       "      <td>NaN</td>\n",
       "      <td>0.0</td>\n",
       "      <td>-105.0</td>\n",
       "    </tr>\n",
       "    <tr>\n",
       "      <th>149</th>\n",
       "      <td>547650</td>\n",
       "      <td>297851</td>\n",
       "      <td>mobile</td>\n",
       "      <td>ended</td>\n",
       "      <td>410.0</td>\n",
       "      <td>NaN</td>\n",
       "      <td>NaN</td>\n",
       "      <td>240.0</td>\n",
       "      <td>-170.0</td>\n",
       "    </tr>\n",
       "    <tr>\n",
       "      <th>152</th>\n",
       "      <td>551936</td>\n",
       "      <td>404192</td>\n",
       "      <td>mobile</td>\n",
       "      <td>ended</td>\n",
       "      <td>925.0</td>\n",
       "      <td>NaN</td>\n",
       "      <td>NaN</td>\n",
       "      <td>150.0</td>\n",
       "      <td>-775.0</td>\n",
       "    </tr>\n",
       "    <tr>\n",
       "      <th>153</th>\n",
       "      <td>513740</td>\n",
       "      <td>338940</td>\n",
       "      <td>mobile</td>\n",
       "      <td>ended</td>\n",
       "      <td>83.0</td>\n",
       "      <td>565837.0</td>\n",
       "      <td>0.0</td>\n",
       "      <td>30.0</td>\n",
       "      <td>-53.0</td>\n",
       "    </tr>\n",
       "  </tbody>\n",
       "</table>\n",
       "</div>"
      ],
      "text/plain": [
       "    rental_id  car_id checkin_type  state  delay_at_checkout_in_minutes  \\\n",
       "11     539751  374684       mobile  ended                           3.0   \n",
       "12     540607  382364       mobile  ended                           1.0   \n",
       "37     540868  408776       mobile  ended                          26.0   \n",
       "64     572909  301512       mobile  ended                          13.0   \n",
       "68     533413  353425      connect  ended                           4.0   \n",
       "69     541519  408821       mobile  ended                          95.0   \n",
       "88     536978  378931       mobile  ended                         271.0   \n",
       "93     514474  376574       mobile  ended                          81.0   \n",
       "122    548646  282893       mobile  ended                         201.0   \n",
       "128    548169  375834       mobile  ended                           5.0   \n",
       "130    550060  396250       mobile  ended                         123.0   \n",
       "144    550671  404424       mobile  ended                         105.0   \n",
       "149    547650  297851       mobile  ended                         410.0   \n",
       "152    551936  404192       mobile  ended                         925.0   \n",
       "153    513740  338940       mobile  ended                          83.0   \n",
       "\n",
       "     previous_ended_rental_id  time_delta_with_previous_rental_in_minutes  \\\n",
       "11                   537514.0                                       660.0   \n",
       "12                        NaN                                         NaN   \n",
       "37                        NaN                                         NaN   \n",
       "64                        NaN                                         NaN   \n",
       "68                        NaN                                         NaN   \n",
       "69                        NaN                                         NaN   \n",
       "88                        NaN                                         NaN   \n",
       "93                        NaN                                         NaN   \n",
       "122                       NaN                                         NaN   \n",
       "128                       NaN                                         NaN   \n",
       "130                       NaN                                         NaN   \n",
       "144                       NaN                                         NaN   \n",
       "149                       NaN                                         NaN   \n",
       "152                       NaN                                         NaN   \n",
       "153                  565837.0                                         0.0   \n",
       "\n",
       "    time_between_next_checkin checkout_checkin_difference  \n",
       "11                        0.0                        -3.0  \n",
       "12                        0.0                        -1.0  \n",
       "37                        0.0                       -26.0  \n",
       "64                        0.0                       -13.0  \n",
       "68                        0.0                        -4.0  \n",
       "69                       90.0                        -5.0  \n",
       "88                       60.0                      -211.0  \n",
       "93                        0.0                       -81.0  \n",
       "122                      30.0                      -171.0  \n",
       "128                       0.0                        -5.0  \n",
       "130                     120.0                        -3.0  \n",
       "144                       0.0                      -105.0  \n",
       "149                     240.0                      -170.0  \n",
       "152                     150.0                      -775.0  \n",
       "153                      30.0                       -53.0  "
      ]
     },
     "execution_count": 36,
     "metadata": {},
     "output_type": "execute_result"
    }
   ],
   "source": [
    "# values from customers who checked-out in advance \n",
    "\n",
    "df[df['checkout_checkin_difference'] < 0].head(15)"
   ]
  },
  {
   "cell_type": "code",
   "execution_count": 37,
   "metadata": {},
   "outputs": [
    {
     "name": "stdout",
     "output_type": "stream",
     "text": [
      "This is the number of Problematic Cases:  219\n"
     ]
    }
   ],
   "source": [
    "# Customer who checked-out in advance are problematic cases.\n",
    "\n",
    "problematic_cases = len(df[df['checkout_checkin_difference'] < 0])\n",
    "print(\"This is the number of Problematic Cases: \", problematic_cases)"
   ]
  },
  {
   "cell_type": "code",
   "execution_count": 38,
   "metadata": {},
   "outputs": [
    {
     "name": "stdout",
     "output_type": "stream",
     "text": [
      "This is the Problematic Cases Percetage for Ended Transactions:  1.2 %\n"
     ]
    }
   ],
   "source": [
    "problematic_cases_percentage = problematic_cases / len(ended)\n",
    "print(\"This is the Problematic Cases Percetage for Ended Transactions: \", round(problematic_cases_percentage * 100, 1),\"%\")"
   ]
  },
  {
   "cell_type": "code",
   "execution_count": 39,
   "metadata": {},
   "outputs": [
    {
     "data": {
      "text/plain": [
       "mobile     148\n",
       "connect     71\n",
       "Name: checkin_type, dtype: int64"
      ]
     },
     "execution_count": 39,
     "metadata": {},
     "output_type": "execute_result"
    }
   ],
   "source": [
    "# Problematic Cases Check-in Types: Mobile Users have more than the double of Connect users.\n",
    "\n",
    "df[df['checkout_checkin_difference'] < 0].checkin_type.value_counts()"
   ]
  },
  {
   "cell_type": "markdown",
   "metadata": {},
   "source": [
    "### <a name=\"p5-3\">How many problematic cases will it solve depending on the threshold and the scope?</a>\n",
    "\n",
    "We will apply the same technique but instead of using the whole dataset and the \"time_delta_with_previous_rental_in_minutes\" column, we will work with **problematic cases** and **\"checkout_checkin_difference\"** column."
   ]
  },
  {
   "cell_type": "code",
   "execution_count": 40,
   "metadata": {},
   "outputs": [
    {
     "data": {
      "text/html": [
       "<div>\n",
       "<style scoped>\n",
       "    .dataframe tbody tr th:only-of-type {\n",
       "        vertical-align: middle;\n",
       "    }\n",
       "\n",
       "    .dataframe tbody tr th {\n",
       "        vertical-align: top;\n",
       "    }\n",
       "\n",
       "    .dataframe thead th {\n",
       "        text-align: right;\n",
       "    }\n",
       "</style>\n",
       "<table border=\"1\" class=\"dataframe\">\n",
       "  <thead>\n",
       "    <tr style=\"text-align: right;\">\n",
       "      <th></th>\n",
       "      <th>rental_id</th>\n",
       "      <th>car_id</th>\n",
       "      <th>checkin_type</th>\n",
       "      <th>state</th>\n",
       "      <th>delay_at_checkout_in_minutes</th>\n",
       "      <th>previous_ended_rental_id</th>\n",
       "      <th>time_delta_with_previous_rental_in_minutes</th>\n",
       "      <th>time_between_next_checkin</th>\n",
       "      <th>checkout_checkin_difference</th>\n",
       "    </tr>\n",
       "  </thead>\n",
       "  <tbody>\n",
       "    <tr>\n",
       "      <th>11</th>\n",
       "      <td>539751</td>\n",
       "      <td>374684</td>\n",
       "      <td>mobile</td>\n",
       "      <td>ended</td>\n",
       "      <td>3.0</td>\n",
       "      <td>537514.0</td>\n",
       "      <td>660.0</td>\n",
       "      <td>0.0</td>\n",
       "      <td>-3.0</td>\n",
       "    </tr>\n",
       "    <tr>\n",
       "      <th>12</th>\n",
       "      <td>540607</td>\n",
       "      <td>382364</td>\n",
       "      <td>mobile</td>\n",
       "      <td>ended</td>\n",
       "      <td>1.0</td>\n",
       "      <td>NaN</td>\n",
       "      <td>NaN</td>\n",
       "      <td>0.0</td>\n",
       "      <td>-1.0</td>\n",
       "    </tr>\n",
       "    <tr>\n",
       "      <th>37</th>\n",
       "      <td>540868</td>\n",
       "      <td>408776</td>\n",
       "      <td>mobile</td>\n",
       "      <td>ended</td>\n",
       "      <td>26.0</td>\n",
       "      <td>NaN</td>\n",
       "      <td>NaN</td>\n",
       "      <td>0.0</td>\n",
       "      <td>-26.0</td>\n",
       "    </tr>\n",
       "    <tr>\n",
       "      <th>64</th>\n",
       "      <td>572909</td>\n",
       "      <td>301512</td>\n",
       "      <td>mobile</td>\n",
       "      <td>ended</td>\n",
       "      <td>13.0</td>\n",
       "      <td>NaN</td>\n",
       "      <td>NaN</td>\n",
       "      <td>0.0</td>\n",
       "      <td>-13.0</td>\n",
       "    </tr>\n",
       "    <tr>\n",
       "      <th>68</th>\n",
       "      <td>533413</td>\n",
       "      <td>353425</td>\n",
       "      <td>connect</td>\n",
       "      <td>ended</td>\n",
       "      <td>4.0</td>\n",
       "      <td>NaN</td>\n",
       "      <td>NaN</td>\n",
       "      <td>0.0</td>\n",
       "      <td>-4.0</td>\n",
       "    </tr>\n",
       "    <tr>\n",
       "      <th>...</th>\n",
       "      <td>...</td>\n",
       "      <td>...</td>\n",
       "      <td>...</td>\n",
       "      <td>...</td>\n",
       "      <td>...</td>\n",
       "      <td>...</td>\n",
       "      <td>...</td>\n",
       "      <td>...</td>\n",
       "      <td>...</td>\n",
       "    </tr>\n",
       "    <tr>\n",
       "      <th>1806</th>\n",
       "      <td>550186</td>\n",
       "      <td>410402</td>\n",
       "      <td>mobile</td>\n",
       "      <td>ended</td>\n",
       "      <td>21.0</td>\n",
       "      <td>NaN</td>\n",
       "      <td>NaN</td>\n",
       "      <td>0.0</td>\n",
       "      <td>-21.0</td>\n",
       "    </tr>\n",
       "    <tr>\n",
       "      <th>1812</th>\n",
       "      <td>534678</td>\n",
       "      <td>383344</td>\n",
       "      <td>connect</td>\n",
       "      <td>ended</td>\n",
       "      <td>164.0</td>\n",
       "      <td>563620.0</td>\n",
       "      <td>240.0</td>\n",
       "      <td>60.0</td>\n",
       "      <td>-104.0</td>\n",
       "    </tr>\n",
       "    <tr>\n",
       "      <th>1823</th>\n",
       "      <td>564756</td>\n",
       "      <td>378689</td>\n",
       "      <td>mobile</td>\n",
       "      <td>ended</td>\n",
       "      <td>39.0</td>\n",
       "      <td>NaN</td>\n",
       "      <td>NaN</td>\n",
       "      <td>0.0</td>\n",
       "      <td>-39.0</td>\n",
       "    </tr>\n",
       "    <tr>\n",
       "      <th>1835</th>\n",
       "      <td>567708</td>\n",
       "      <td>294059</td>\n",
       "      <td>mobile</td>\n",
       "      <td>ended</td>\n",
       "      <td>283.0</td>\n",
       "      <td>NaN</td>\n",
       "      <td>NaN</td>\n",
       "      <td>120.0</td>\n",
       "      <td>-163.0</td>\n",
       "    </tr>\n",
       "    <tr>\n",
       "      <th>1836</th>\n",
       "      <td>562174</td>\n",
       "      <td>381499</td>\n",
       "      <td>connect</td>\n",
       "      <td>ended</td>\n",
       "      <td>73.0</td>\n",
       "      <td>NaN</td>\n",
       "      <td>NaN</td>\n",
       "      <td>0.0</td>\n",
       "      <td>-73.0</td>\n",
       "    </tr>\n",
       "  </tbody>\n",
       "</table>\n",
       "<p>219 rows × 9 columns</p>\n",
       "</div>"
      ],
      "text/plain": [
       "     rental_id  car_id checkin_type  state  delay_at_checkout_in_minutes  \\\n",
       "11      539751  374684       mobile  ended                           3.0   \n",
       "12      540607  382364       mobile  ended                           1.0   \n",
       "37      540868  408776       mobile  ended                          26.0   \n",
       "64      572909  301512       mobile  ended                          13.0   \n",
       "68      533413  353425      connect  ended                           4.0   \n",
       "...        ...     ...          ...    ...                           ...   \n",
       "1806    550186  410402       mobile  ended                          21.0   \n",
       "1812    534678  383344      connect  ended                         164.0   \n",
       "1823    564756  378689       mobile  ended                          39.0   \n",
       "1835    567708  294059       mobile  ended                         283.0   \n",
       "1836    562174  381499      connect  ended                          73.0   \n",
       "\n",
       "      previous_ended_rental_id  time_delta_with_previous_rental_in_minutes  \\\n",
       "11                    537514.0                                       660.0   \n",
       "12                         NaN                                         NaN   \n",
       "37                         NaN                                         NaN   \n",
       "64                         NaN                                         NaN   \n",
       "68                         NaN                                         NaN   \n",
       "...                        ...                                         ...   \n",
       "1806                       NaN                                         NaN   \n",
       "1812                  563620.0                                       240.0   \n",
       "1823                       NaN                                         NaN   \n",
       "1835                       NaN                                         NaN   \n",
       "1836                       NaN                                         NaN   \n",
       "\n",
       "     time_between_next_checkin checkout_checkin_difference  \n",
       "11                         0.0                        -3.0  \n",
       "12                         0.0                        -1.0  \n",
       "37                         0.0                       -26.0  \n",
       "64                         0.0                       -13.0  \n",
       "68                         0.0                        -4.0  \n",
       "...                        ...                         ...  \n",
       "1806                       0.0                       -21.0  \n",
       "1812                      60.0                      -104.0  \n",
       "1823                       0.0                       -39.0  \n",
       "1835                     120.0                      -163.0  \n",
       "1836                       0.0                       -73.0  \n",
       "\n",
       "[219 rows x 9 columns]"
      ]
     },
     "execution_count": 40,
     "metadata": {},
     "output_type": "execute_result"
    }
   ],
   "source": [
    "# Filter problematic cases \n",
    "\n",
    "df[df['checkout_checkin_difference'] < 0]"
   ]
  },
  {
   "cell_type": "code",
   "execution_count": 41,
   "metadata": {},
   "outputs": [
    {
     "name": "stdout",
     "output_type": "stream",
     "text": [
      "Number of Cases to Solve:  219\n"
     ]
    }
   ],
   "source": [
    "# Assign problematic cases to 'cases_to_solve' variable\n",
    "\n",
    "cases_to_solve = df[df['checkout_checkin_difference'] < 0]\n",
    "print(\"Number of Cases to Solve: \", len(cases_to_solve))"
   ]
  },
  {
   "cell_type": "code",
   "execution_count": 42,
   "metadata": {},
   "outputs": [
    {
     "name": "stdout",
     "output_type": "stream",
     "text": [
      "Number of Cases to Solve using Connect:  71\n"
     ]
    }
   ],
   "source": [
    "connect_solved = df[df['checkout_checkin_difference'] < 0]\n",
    "connect_solved = connect_solved[connect_solved['checkin_type'] == 'connect']\n",
    "connect_solved = len(connect_solved)\n",
    "print(\"Number of Cases to Solve using Connect: \", connect_solved)"
   ]
  },
  {
   "cell_type": "code",
   "execution_count": 43,
   "metadata": {},
   "outputs": [
    {
     "name": "stdout",
     "output_type": "stream",
     "text": [
      "Number of Cases to Solve using Mobile:  148\n"
     ]
    }
   ],
   "source": [
    "mobile_solved = df[df['checkout_checkin_difference'] < 0]\n",
    "mobile_solved  = mobile_solved [mobile_solved ['checkin_type'] == 'mobile']\n",
    "mobile_solved  = len(mobile_solved )\n",
    "print(\"Number of Cases to Solve using Mobile: \", mobile_solved )"
   ]
  },
  {
   "cell_type": "code",
   "execution_count": 44,
   "metadata": {},
   "outputs": [],
   "source": [
    "# Filter Problematic Cases, filter 'delay_at_checkout_in_minutes' lower than threshold, \n",
    "# Return the percentage of cases to solve and problematic cases.\n",
    "\n",
    "def cases_solved(threshold):\n",
    "    cases_to_solve = df[df['checkout_checkin_difference'] < 0]\n",
    "    cases_to_solve = cases_to_solve[cases_to_solve['delay_at_checkout_in_minutes'] < threshold]\n",
    "    return len(cases_to_solve)/problematic_cases\n",
    "\n",
    "# Filter Problematic Cases, filter 'checkin_type' equals to Connect, filter 'delay_at_checkout_in_minutes' lower than threshold, \n",
    "# Return the percentage of cases to solve over the number of Connect transactions.\n",
    "\n",
    "def cases_solved_connect(threshold):\n",
    "    cases_to_solve = df[df['checkout_checkin_difference'] < 0]\n",
    "    cases_to_solve = cases_to_solve[cases_to_solve['checkin_type'] == 'connect']\n",
    "    cases_to_solve = cases_to_solve[cases_to_solve['delay_at_checkout_in_minutes'] < threshold]\n",
    "    return len(cases_to_solve)/connect_solved\n",
    "\n",
    "# Filter Problematic Cases, filter 'checkin_type' equals to Mobile, filter 'delay_at_checkout_in_minutes' lower than threshold, \n",
    "# Return the percentage of cases to solve over the number of Mobile transactions.\n",
    "\n",
    "def cases_solved_mobile(threshold):\n",
    "    cases_to_solve = df[df['checkout_checkin_difference'] < 0]\n",
    "    cases_to_solve = cases_to_solve[cases_to_solve['checkin_type'] == 'mobile']\n",
    "    cases_to_solve = cases_to_solve[cases_to_solve['delay_at_checkout_in_minutes'] < threshold]\n",
    "    return len(cases_to_solve)/mobile_solved "
   ]
  },
  {
   "cell_type": "code",
   "execution_count": 45,
   "metadata": {},
   "outputs": [],
   "source": [
    "# Create a x_list from 0 till 799 minutes\n",
    "x_list_solved = np.arange(0,800,1)\n",
    "\n",
    "# Create an empty list\n",
    "y_list_solved = []\n",
    "\n",
    "# For each value from the \"x_list_solved\" passes into 'cases_solved' function and append the result to \"y_list_solved\"\n",
    "for x in x_list_solved:\n",
    "    y_list_solved.append(cases_solved(x))\n",
    "    \n",
    "# Create an empty list\n",
    "y_list_solved_connect = []\n",
    "\n",
    "# For each value from the \"x_list_solved\" passes into 'cases_solved_connect' function and append the result to \"y_list_solved_connect\"\n",
    "for x in x_list_solved:\n",
    "    y_list_solved_connect.append(cases_solved_connect(x))\n",
    "    \n",
    "# Create an empty list\n",
    "y_list_solved_mobile = []\n",
    "\n",
    "# For each value from the \"x_list_solved\" passes into 'cases_solved_mobile' function and append the result to \"y_list_solved_mobile\"\n",
    "for x in x_list_solved:\n",
    "    y_list_solved_mobile.append(cases_solved_mobile(x))"
   ]
  },
  {
   "cell_type": "code",
   "execution_count": 46,
   "metadata": {},
   "outputs": [
    {
     "data": {
      "text/plain": [
       "(0.0, 1.2)"
      ]
     },
     "execution_count": 46,
     "metadata": {},
     "output_type": "execute_result"
    },
    {
     "data": {
      "image/png": "[encoded data removed]",
      "text/plain": [
       "<Figure size 1440x720 with 1 Axes>"
      ]
     },
     "metadata": {
      "needs_background": "light"
     },
     "output_type": "display_data"
    }
   ],
   "source": [
    "# Plot a Line chart of Threshold analysis\n",
    "\n",
    "ax = fig.add_subplot(1, 1, 1)\n",
    "fig, ax = plt.subplots(figsize=(20, 10))\n",
    "ax.plot(x_list_solved, y_list_solved)\n",
    "ax.plot(x_list_solved, y_list_solved_connect)\n",
    "ax.plot(x_list_solved, y_list_solved_mobile)\n",
    "\n",
    "labels = ['all rentals', 'connect', 'mobile']\n",
    "ax.legend(labels)\n",
    "ax.set_title(\"Solved Cases(%) over Threshold\")\n",
    "ax.set_xlabel('Threshold (min)')\n",
    "ax.set_ylabel('% of solved cases')\n",
    "plt.ylim(0, 1.2)"
   ]
  },
  {
   "cell_type": "markdown",
   "metadata": {},
   "source": [
    "We extracted cases where the `checkout delay` of **X** was higher than the delay with previous of **Y**, we can name 'Y' as `problematics`. We analysed the `percentage` of **solved cases**, where `threshold` is **greater than delay at checkout**, depending on the `threshold` and the `scope`. \n",
    "\n",
    "We can see that `mobile`, `connect` and `all rental` behave similarly."
   ]
  },
  {
   "cell_type": "markdown",
   "metadata": {},
   "source": [
    "# <a name=\"p6\">Conclusion</a>\n",
    "\n",
    "**how long should the minimum delay be?** \n",
    "\n",
    "Based on Statistical Analysis the minimum delay is 200 minutes.\n",
    "\n",
    "**Should we enable the feature for all cars? Only Connect cars?**\n",
    "\n",
    "The feature performs best on Mobile although they all behave quite similar, my recommendation is to extend it to **all cars** for better results.\n",
    "\n",
    "\n",
    "\n",
    "\n"
   ]
  }
 ],
 "metadata": {
  "kernelspec": {
   "display_name": "Python 3",
   "language": "python",
   "name": "python3"
  },
  "language_info": {
   "codemirror_mode": {
    "name": "ipython",
    "version": 3
   },
   "file_extension": ".py",
   "mimetype": "text/x-python",
   "name": "python",
   "nbconvert_exporter": "python",
   "pygments_lexer": "ipython3",
   "version": "3.8.5"
  }
 },
 "nbformat": 4,
 "nbformat_minor": 4
}
